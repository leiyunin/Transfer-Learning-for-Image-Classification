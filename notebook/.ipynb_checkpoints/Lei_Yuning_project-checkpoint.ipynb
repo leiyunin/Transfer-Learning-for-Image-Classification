{
 "cells": [
  {
   "cell_type": "markdown",
   "id": "b39a50d4",
   "metadata": {
    "id": "b39a50d4"
   },
   "source": [
    "# Name: Yuning Lei\n",
    "# Github username: Thundereggg\n",
    "# USC ID: 4169712364"
   ]
  },
  {
   "cell_type": "code",
   "execution_count": 43,
   "id": "eb98663b",
   "metadata": {
    "id": "eb98663b"
   },
   "outputs": [],
   "source": [
    "import numpy as np\n",
    "import tensorflow as tf\n",
    "from tensorflow import keras\n",
    "from tensorflow.keras import layers\n",
    "import os\n",
    "os.environ['TF_CPP_MIN_LOG_LEVEL'] = '2'\n",
    "import pandas as pd\n",
    "import random\n",
    "import shutil\n",
    "import math\n",
    "from tensorflow.keras.applications import EfficientNetB0\n",
    "from tensorflow.keras.applications.vgg16 import VGG16\n",
    "from keras.layers import Activation,Dense,Dropout, Flatten,BatchNormalization,GlobalMaxPooling2D\n",
    "from keras.models import Sequential,Model\n",
    "from tensorflow.keras.callbacks import ReduceLROnPlateau\n",
    "import matplotlib.pyplot as plt\n",
    "from sklearn.metrics import classification_report\n",
    "#from sklearn.metrics import precision_score, recall_score, f1_score, accuracy_score\n",
    "#from sklearn.metrics import confusion_matrix"
   ]
  },
  {
   "cell_type": "markdown",
   "id": "ca71ef1d",
   "metadata": {
    "id": "ca71ef1d"
   },
   "source": [
    "## 1. Transfer Learning for Image Classification"
   ]
  },
  {
   "cell_type": "markdown",
   "id": "b66aa954",
   "metadata": {
    "id": "b66aa954"
   },
   "source": [
    "It is highly recommended that you complete this project using Keras and Python."
   ]
  },
  {
   "cell_type": "markdown",
   "id": "9edbf7a8",
   "metadata": {
    "id": "9edbf7a8"
   },
   "source": [
    "(a) In this problem, we are trying to build a classifier that distinguishes images of 20\n",
    "bird species. You are provided with text data in twenty folders."
   ]
  },
  {
   "cell_type": "markdown",
   "id": "9d38c617",
   "metadata": {
    "id": "9d38c617"
   },
   "source": [
    "### (b) Data Exploration and Pre-processing"
   ]
  },
  {
   "cell_type": "markdown",
   "id": "d4abe05d",
   "metadata": {
    "id": "d4abe05d"
   },
   "source": [
    "i. Images in each class are given in separate folders. The file Classes.xlsx prvides the classes assigned to the bird species images in each folder. Therefore,\n",
    "you encode your classes using one-hot encoding and Classes.xlsx."
   ]
  },
  {
   "cell_type": "markdown",
   "id": "1d96b9fe",
   "metadata": {
    "id": "1d96b9fe"
   },
   "source": [
    "ii. Randomly select d0.7nie images from each folder as your training set, d0.15nie\n",
    "as validation set, and the rest as your test set, where ni\n",
    "is the number of\n",
    "images in folder i and dxe is the ceiling of x."
   ]
  },
  {
   "cell_type": "markdown",
   "id": "0354d564",
   "metadata": {
    "id": "0354d564"
   },
   "source": [
    "iii. In order for all the images to have the same size, zero-pad or resize the images\n",
    "in your dataset. This can be done using various tools, including OpenCV."
   ]
  },
  {
   "cell_type": "code",
   "execution_count": null,
   "id": "9955033b",
   "metadata": {
    "id": "9955033b"
   },
   "outputs": [],
   "source": [
    "df=pd.read_excel('../Data/Classes.xlsx')\n",
    "#df_new = pd.get_dummies(df, columns=[\"Class\"], prefix=\"bird\") # Reference 1"
   ]
  },
  {
   "cell_type": "code",
   "execution_count": null,
   "id": "6283efe8",
   "metadata": {
    "id": "6283efe8"
   },
   "outputs": [],
   "source": [
    "# create train, validation, test folders\n",
    "path1='/Users/thundereggg/Downloads/552project/Data/train'\n",
    "path2='/Users/thundereggg/Downloads/552project/Data/validation'\n",
    "path3='/Users/thundereggg/Downloads/552project/Data/test'\n",
    "os.mkdir(path1)\n",
    "os.mkdir(path2)\n",
    "os.mkdir(path3)"
   ]
  },
  {
   "cell_type": "code",
   "execution_count": null,
   "id": "6d419936",
   "metadata": {
    "id": "6d419936"
   },
   "outputs": [],
   "source": [
    "for i in list(df.iloc[:,0]):\n",
    "    os.mkdir(path1+'/'+i) # create each bird class folder in train folder\n",
    "    os.mkdir(path2+'/'+i)   # create each bird class folder in validation folder\n",
    "    os.mkdir(path3+'/'+i)  # create each bird class folder in test folder\n",
    "    source='../Data/images/'+i\n",
    "    dest1 = '../Data/train/'+i\n",
    "    dest2 = '../Data/validation/'+i\n",
    "    dest3 = '../Data/test/'+i\n",
    "    files = os.listdir(source)\n",
    "    no_of_files1 = math.ceil(len(files) *0.7) \n",
    "    no_of_files2 = math.ceil(len(files) *0.15) \n",
    "    no_of_files3 = len(files)-no_of_files1-no_of_files2 \n",
    "    for file_name in random.sample(files, no_of_files1): # random select [0.7n] images of each class into train folder\n",
    "        shutil.move(os.path.join(source, file_name), dest1)\n",
    "    for file_name in random.sample(os.listdir(source), no_of_files2): # random select [0.15n] images of each class into validation folder\n",
    "        shutil.move(os.path.join(source, file_name), dest2)\n",
    "    for file_name in random.sample(os.listdir(source), no_of_files3): # select the rest images of each class into test folder\n",
    "        shutil.move(os.path.join(source, file_name), dest3)"
   ]
  },
  {
   "cell_type": "code",
   "execution_count": 2,
   "id": "VB-DOmZoWSgL",
   "metadata": {
    "colab": {
     "base_uri": "https://localhost:8080/"
    },
    "id": "VB-DOmZoWSgL",
    "outputId": "6bc46a61-ab55-46fe-f373-5b6a74bb3054"
   },
   "outputs": [
    {
     "name": "stdout",
     "output_type": "stream",
     "text": [
      "Mounted at /content/drive\n"
     ]
    }
   ],
   "source": [
    "# The rest of this project was complete on Google Colab\n",
    "from google.colab import drive \n",
    "drive.mount('/content/drive')"
   ]
  },
  {
   "cell_type": "code",
   "execution_count": 57,
   "id": "1f74c117",
   "metadata": {
    "colab": {
     "base_uri": "https://localhost:8080/"
    },
    "id": "1f74c117",
    "outputId": "fffdfea2-4e92-4ed8-eea2-0e2bf9bac0d3"
   },
   "outputs": [
    {
     "name": "stdout",
     "output_type": "stream",
     "text": [
      "Found 827 files belonging to 20 classes.\n",
      "Found 178 files belonging to 20 classes.\n",
      "Found 171 files belonging to 20 classes.\n"
     ]
    }
   ],
   "source": [
    "# Load data with resized image\n",
    "train_ds = keras.utils.image_dataset_from_directory('/content/drive/MyDrive/Data/train', image_size=(224,224),shuffle = True) #Reference 2\n",
    "val_ds = keras.utils.image_dataset_from_directory('/content/drive/MyDrive/Data/validation', image_size=(224,224),shuffle = True)\n",
    "test_ds = keras.utils.image_dataset_from_directory('/content/drive/MyDrive/Data/test', image_size=(224,224),shuffle = True)"
   ]
  },
  {
   "cell_type": "code",
   "execution_count": 87,
   "id": "e9097691",
   "metadata": {
    "id": "e9097691"
   },
   "outputs": [],
   "source": [
    "# One hot coding\n",
    "train_ds = train_ds.map(lambda x, y: (x, tf.one_hot(y, depth=20)))\n",
    "val_ds = val_ds.map(lambda x, y: (x, tf.one_hot(y, depth=20)))\n",
    "test_ds = test_ds.map(lambda x, y: (x, tf.one_hot(y, depth=20)))"
   ]
  },
  {
   "cell_type": "markdown",
   "id": "9e056700",
   "metadata": {
    "id": "9e056700"
   },
   "source": [
    "### (c) Transfer Learning"
   ]
  },
  {
   "cell_type": "markdown",
   "id": "3409307c",
   "metadata": {
    "id": "3409307c"
   },
   "source": [
    "i. When dealing with classification of relatively small image datasets, deep networks may not perform very well because of not having enough data to train\n",
    "them. In such cases, one usually uses transfer learning, which uses deep\n",
    "learning models that are trained on very large datasets such as ImageNet\n",
    "as feature extractors. The idea is that such deep networks have learned to\n",
    "extract meaningful features from an image using their layers, and those features can be used in learning other tasks. In order to do that, usually the\n",
    "last layer or the last few layers of the pre-trained network are removed, and\n",
    "the response of the layer before the removed layers to the images in the new\n",
    "dataset is used as a feature vector to train one more multiple replacement layers. The dataset in this task has only around 50-60 images per class. Given\n",
    "that we have 20 classes, training a deep network with such a small dataset\n",
    "may not yield desirable results. In this project, you will use pre-trained models EfficientNetB0 and VGG16. For both pre-trained networks, you will only\n",
    "train the last fully connected layer, and will freeze all layers before them (i.e.\n",
    "we do not change their parameters during training) and use the outputs of the\n",
    "penultimate layer in the original pre-trained model as the features extracted\n",
    "from each image."
   ]
  },
  {
   "cell_type": "markdown",
   "id": "40cceb83",
   "metadata": {
    "id": "40cceb83"
   },
   "source": [
    "ii. To perform empirical regularization, crop, randomly zoo, rotate, flip, contrast,\n",
    "and translate images in your training set for image augmentation. You can\n",
    "use various tools to do this, including OpenCV."
   ]
  },
  {
   "cell_type": "markdown",
   "id": "50321f49",
   "metadata": {
    "id": "50321f49"
   },
   "source": [
    "iii. Use ReLU activation functions in the last layer and a softmax layer, along\n",
    "with batch normalization and a dropout rate of 20% as well as ADAM optimizer. Use multinomial cross entropy loss. You can try any batch size,\n",
    "but a batch size of 5 seems reasonable."
   ]
  },
  {
   "cell_type": "markdown",
   "id": "19a5dacb",
   "metadata": {
    "id": "19a5dacb"
   },
   "source": [
    "iv. Train the networks (EfficientNetB0 and VGG16) for at least 50 epochs\n",
    "(preferably 100 epochs) and perform early stopping using the validation set.\n",
    "Keep the network parameters that have the lowest validation error. Plot the\n",
    "training and validation errors vs. epochs."
   ]
  },
  {
   "cell_type": "markdown",
   "id": "22f41d0b",
   "metadata": {
    "id": "22f41d0b"
   },
   "source": [
    "v. Report Precision, Recall, and F1 score for your model. Remember that this\n",
    "is a multi-class classification problem."
   ]
  },
  {
   "cell_type": "code",
   "execution_count": 5,
   "id": "22273b44",
   "metadata": {
    "id": "22273b44",
    "scrolled": true
   },
   "outputs": [],
   "source": [
    "#image, label = next(iter(train_data))\n",
    "data_aug = tf.keras.Sequential([\n",
    "  layers.RandomCrop(224,224), # crop\n",
    "  layers.RandomZoom((0.2,0.4),(0.2,0.4)), # zoom\n",
    "  layers.RandomRotation((-0.2,0.4)), # rotation\n",
    "  layers.RandomFlip(\"horizontal_and_vertical\"), # flip\n",
    "  layers.RandomContrast((0.1,0.6)), # contrast\n",
    "  layers.RandomTranslation((-0.2,0.3),(-0.2,0.3)), # translation\n",
    "]) # Reference 3 & 4\n",
    "\n",
    "#image = tf.cast(tf.expand_dims(image, 0), tf.float32)\n",
    "tf.get_logger().setLevel('ERROR') # From Piaza\n",
    "#train_ds_aug = data_aug(image)"
   ]
  },
  {
   "cell_type": "code",
   "execution_count": 6,
   "id": "0e3e71f3",
   "metadata": {
    "id": "0e3e71f3"
   },
   "outputs": [],
   "source": [
    "train_ds = train_ds.map(lambda x, y: (data_aug(x), y)) # Train data augmentation"
   ]
  },
  {
   "cell_type": "code",
   "execution_count": 8,
   "id": "0b6e7fbc",
   "metadata": {
    "id": "0b6e7fbc"
   },
   "outputs": [],
   "source": [
    "# Set early stopping and callback point \n",
    "early_stopping = tf.keras.callbacks.EarlyStopping(\n",
    "    monitor = 'val_loss',patience=10, restore_best_weights=True\n",
    ")\n",
    "\n",
    "lr_callback = ReduceLROnPlateau(monitor='val_accuracy', factor=0.2, patience=3, min_lr=0.000005)\n",
    "# Reference 5"
   ]
  },
  {
   "cell_type": "code",
   "execution_count": 25,
   "id": "ecfdd7af",
   "metadata": {
    "id": "ecfdd7af"
   },
   "outputs": [],
   "source": [
    "# EfficientNetB0\n",
    "# I really appreciated my classmates on the piazza. After revising my model layers according to @1939, the accuracy enhanced a lot.\n",
    "EN_model=EfficientNetB0(weights='imagenet', classes=1000)\n",
    "model1=Flatten()(EN_model.output)\n",
    "model1=Dense(20)(model1)\n",
    "model1=BatchNormalization()(model1)\n",
    "model1=Activation('relu')(model1)\n",
    "model1=Dropout(0.2)(model1)\n",
    "model1 = Activation('softmax')(model1)\n",
    "\n",
    "model1 = Model(inputs=EN_model.input, outputs=model1)\n",
    "model1.compile(optimizer='adam', loss='categorical_crossentropy', metrics=['accuracy'])"
   ]
  },
  {
   "cell_type": "code",
   "execution_count": 110,
   "id": "CHgMRWJVOP7c",
   "metadata": {
    "colab": {
     "base_uri": "https://localhost:8080/"
    },
    "id": "CHgMRWJVOP7c",
    "outputId": "8d4de39e-ef00-496e-cda3-40e46741dc89"
   },
   "outputs": [
    {
     "name": "stdout",
     "output_type": "stream",
     "text": [
      "Model: \"model_3\"\n",
      "__________________________________________________________________________________________________\n",
      " Layer (type)                   Output Shape         Param #     Connected to                     \n",
      "==================================================================================================\n",
      " input_6 (InputLayer)           [(None, 224, 224, 3  0           []                               \n",
      "                                )]                                                                \n",
      "                                                                                                  \n",
      " rescaling_5 (Rescaling)        (None, 224, 224, 3)  0           ['input_6[0][0]']                \n",
      "                                                                                                  \n",
      " normalization_5 (Normalization  (None, 224, 224, 3)  7          ['rescaling_5[0][0]']            \n",
      " )                                                                                                \n",
      "                                                                                                  \n",
      " tf.math.truediv_5 (TFOpLambda)  (None, 224, 224, 3)  0          ['normalization_5[0][0]']        \n",
      "                                                                                                  \n",
      " stem_conv_pad (ZeroPadding2D)  (None, 225, 225, 3)  0           ['tf.math.truediv_5[0][0]']      \n",
      "                                                                                                  \n",
      " stem_conv (Conv2D)             (None, 112, 112, 32  864         ['stem_conv_pad[0][0]']          \n",
      "                                )                                                                 \n",
      "                                                                                                  \n",
      " stem_bn (BatchNormalization)   (None, 112, 112, 32  128         ['stem_conv[0][0]']              \n",
      "                                )                                                                 \n",
      "                                                                                                  \n",
      " stem_activation (Activation)   (None, 112, 112, 32  0           ['stem_bn[0][0]']                \n",
      "                                )                                                                 \n",
      "                                                                                                  \n",
      " block1a_dwconv (DepthwiseConv2  (None, 112, 112, 32  288        ['stem_activation[0][0]']        \n",
      " D)                             )                                                                 \n",
      "                                                                                                  \n",
      " block1a_bn (BatchNormalization  (None, 112, 112, 32  128        ['block1a_dwconv[0][0]']         \n",
      " )                              )                                                                 \n",
      "                                                                                                  \n",
      " block1a_activation (Activation  (None, 112, 112, 32  0          ['block1a_bn[0][0]']             \n",
      " )                              )                                                                 \n",
      "                                                                                                  \n",
      " block1a_se_squeeze (GlobalAver  (None, 32)          0           ['block1a_activation[0][0]']     \n",
      " agePooling2D)                                                                                    \n",
      "                                                                                                  \n",
      " block1a_se_reshape (Reshape)   (None, 1, 1, 32)     0           ['block1a_se_squeeze[0][0]']     \n",
      "                                                                                                  \n",
      " block1a_se_reduce (Conv2D)     (None, 1, 1, 8)      264         ['block1a_se_reshape[0][0]']     \n",
      "                                                                                                  \n",
      " block1a_se_expand (Conv2D)     (None, 1, 1, 32)     288         ['block1a_se_reduce[0][0]']      \n",
      "                                                                                                  \n",
      " block1a_se_excite (Multiply)   (None, 112, 112, 32  0           ['block1a_activation[0][0]',     \n",
      "                                )                                 'block1a_se_expand[0][0]']      \n",
      "                                                                                                  \n",
      " block1a_project_conv (Conv2D)  (None, 112, 112, 16  512         ['block1a_se_excite[0][0]']      \n",
      "                                )                                                                 \n",
      "                                                                                                  \n",
      " block1a_project_bn (BatchNorma  (None, 112, 112, 16  64         ['block1a_project_conv[0][0]']   \n",
      " lization)                      )                                                                 \n",
      "                                                                                                  \n",
      " block2a_expand_conv (Conv2D)   (None, 112, 112, 96  1536        ['block1a_project_bn[0][0]']     \n",
      "                                )                                                                 \n",
      "                                                                                                  \n",
      " block2a_expand_bn (BatchNormal  (None, 112, 112, 96  384        ['block2a_expand_conv[0][0]']    \n",
      " ization)                       )                                                                 \n",
      "                                                                                                  \n",
      " block2a_expand_activation (Act  (None, 112, 112, 96  0          ['block2a_expand_bn[0][0]']      \n",
      " ivation)                       )                                                                 \n",
      "                                                                                                  \n",
      " block2a_dwconv_pad (ZeroPaddin  (None, 113, 113, 96  0          ['block2a_expand_activation[0][0]\n",
      " g2D)                           )                                ']                               \n",
      "                                                                                                  \n",
      " block2a_dwconv (DepthwiseConv2  (None, 56, 56, 96)  864         ['block2a_dwconv_pad[0][0]']     \n",
      " D)                                                                                               \n",
      "                                                                                                  \n",
      " block2a_bn (BatchNormalization  (None, 56, 56, 96)  384         ['block2a_dwconv[0][0]']         \n",
      " )                                                                                                \n",
      "                                                                                                  \n",
      " block2a_activation (Activation  (None, 56, 56, 96)  0           ['block2a_bn[0][0]']             \n",
      " )                                                                                                \n",
      "                                                                                                  \n",
      " block2a_se_squeeze (GlobalAver  (None, 96)          0           ['block2a_activation[0][0]']     \n",
      " agePooling2D)                                                                                    \n",
      "                                                                                                  \n",
      " block2a_se_reshape (Reshape)   (None, 1, 1, 96)     0           ['block2a_se_squeeze[0][0]']     \n",
      "                                                                                                  \n",
      " block2a_se_reduce (Conv2D)     (None, 1, 1, 4)      388         ['block2a_se_reshape[0][0]']     \n",
      "                                                                                                  \n",
      " block2a_se_expand (Conv2D)     (None, 1, 1, 96)     480         ['block2a_se_reduce[0][0]']      \n",
      "                                                                                                  \n",
      " block2a_se_excite (Multiply)   (None, 56, 56, 96)   0           ['block2a_activation[0][0]',     \n",
      "                                                                  'block2a_se_expand[0][0]']      \n",
      "                                                                                                  \n",
      " block2a_project_conv (Conv2D)  (None, 56, 56, 24)   2304        ['block2a_se_excite[0][0]']      \n",
      "                                                                                                  \n",
      " block2a_project_bn (BatchNorma  (None, 56, 56, 24)  96          ['block2a_project_conv[0][0]']   \n",
      " lization)                                                                                        \n",
      "                                                                                                  \n",
      " block2b_expand_conv (Conv2D)   (None, 56, 56, 144)  3456        ['block2a_project_bn[0][0]']     \n",
      "                                                                                                  \n",
      " block2b_expand_bn (BatchNormal  (None, 56, 56, 144)  576        ['block2b_expand_conv[0][0]']    \n",
      " ization)                                                                                         \n",
      "                                                                                                  \n",
      " block2b_expand_activation (Act  (None, 56, 56, 144)  0          ['block2b_expand_bn[0][0]']      \n",
      " ivation)                                                                                         \n",
      "                                                                                                  \n",
      " block2b_dwconv (DepthwiseConv2  (None, 56, 56, 144)  1296       ['block2b_expand_activation[0][0]\n",
      " D)                                                              ']                               \n",
      "                                                                                                  \n",
      " block2b_bn (BatchNormalization  (None, 56, 56, 144)  576        ['block2b_dwconv[0][0]']         \n",
      " )                                                                                                \n",
      "                                                                                                  \n",
      " block2b_activation (Activation  (None, 56, 56, 144)  0          ['block2b_bn[0][0]']             \n",
      " )                                                                                                \n",
      "                                                                                                  \n",
      " block2b_se_squeeze (GlobalAver  (None, 144)         0           ['block2b_activation[0][0]']     \n",
      " agePooling2D)                                                                                    \n",
      "                                                                                                  \n",
      " block2b_se_reshape (Reshape)   (None, 1, 1, 144)    0           ['block2b_se_squeeze[0][0]']     \n",
      "                                                                                                  \n",
      " block2b_se_reduce (Conv2D)     (None, 1, 1, 6)      870         ['block2b_se_reshape[0][0]']     \n",
      "                                                                                                  \n",
      " block2b_se_expand (Conv2D)     (None, 1, 1, 144)    1008        ['block2b_se_reduce[0][0]']      \n",
      "                                                                                                  \n",
      " block2b_se_excite (Multiply)   (None, 56, 56, 144)  0           ['block2b_activation[0][0]',     \n",
      "                                                                  'block2b_se_expand[0][0]']      \n",
      "                                                                                                  \n",
      " block2b_project_conv (Conv2D)  (None, 56, 56, 24)   3456        ['block2b_se_excite[0][0]']      \n",
      "                                                                                                  \n",
      " block2b_project_bn (BatchNorma  (None, 56, 56, 24)  96          ['block2b_project_conv[0][0]']   \n",
      " lization)                                                                                        \n",
      "                                                                                                  \n",
      " block2b_drop (Dropout)         (None, 56, 56, 24)   0           ['block2b_project_bn[0][0]']     \n",
      "                                                                                                  \n",
      " block2b_add (Add)              (None, 56, 56, 24)   0           ['block2b_drop[0][0]',           \n",
      "                                                                  'block2a_project_bn[0][0]']     \n",
      "                                                                                                  \n",
      " block3a_expand_conv (Conv2D)   (None, 56, 56, 144)  3456        ['block2b_add[0][0]']            \n",
      "                                                                                                  \n",
      " block3a_expand_bn (BatchNormal  (None, 56, 56, 144)  576        ['block3a_expand_conv[0][0]']    \n",
      " ization)                                                                                         \n",
      "                                                                                                  \n",
      " block3a_expand_activation (Act  (None, 56, 56, 144)  0          ['block3a_expand_bn[0][0]']      \n",
      " ivation)                                                                                         \n",
      "                                                                                                  \n",
      " block3a_dwconv_pad (ZeroPaddin  (None, 59, 59, 144)  0          ['block3a_expand_activation[0][0]\n",
      " g2D)                                                            ']                               \n",
      "                                                                                                  \n",
      " block3a_dwconv (DepthwiseConv2  (None, 28, 28, 144)  3600       ['block3a_dwconv_pad[0][0]']     \n",
      " D)                                                                                               \n",
      "                                                                                                  \n",
      " block3a_bn (BatchNormalization  (None, 28, 28, 144)  576        ['block3a_dwconv[0][0]']         \n",
      " )                                                                                                \n",
      "                                                                                                  \n",
      " block3a_activation (Activation  (None, 28, 28, 144)  0          ['block3a_bn[0][0]']             \n",
      " )                                                                                                \n",
      "                                                                                                  \n",
      " block3a_se_squeeze (GlobalAver  (None, 144)         0           ['block3a_activation[0][0]']     \n",
      " agePooling2D)                                                                                    \n",
      "                                                                                                  \n",
      " block3a_se_reshape (Reshape)   (None, 1, 1, 144)    0           ['block3a_se_squeeze[0][0]']     \n",
      "                                                                                                  \n",
      " block3a_se_reduce (Conv2D)     (None, 1, 1, 6)      870         ['block3a_se_reshape[0][0]']     \n",
      "                                                                                                  \n",
      " block3a_se_expand (Conv2D)     (None, 1, 1, 144)    1008        ['block3a_se_reduce[0][0]']      \n",
      "                                                                                                  \n",
      " block3a_se_excite (Multiply)   (None, 28, 28, 144)  0           ['block3a_activation[0][0]',     \n",
      "                                                                  'block3a_se_expand[0][0]']      \n",
      "                                                                                                  \n",
      " block3a_project_conv (Conv2D)  (None, 28, 28, 40)   5760        ['block3a_se_excite[0][0]']      \n",
      "                                                                                                  \n",
      " block3a_project_bn (BatchNorma  (None, 28, 28, 40)  160         ['block3a_project_conv[0][0]']   \n",
      " lization)                                                                                        \n",
      "                                                                                                  \n",
      " block3b_expand_conv (Conv2D)   (None, 28, 28, 240)  9600        ['block3a_project_bn[0][0]']     \n",
      "                                                                                                  \n",
      " block3b_expand_bn (BatchNormal  (None, 28, 28, 240)  960        ['block3b_expand_conv[0][0]']    \n",
      " ization)                                                                                         \n",
      "                                                                                                  \n",
      " block3b_expand_activation (Act  (None, 28, 28, 240)  0          ['block3b_expand_bn[0][0]']      \n",
      " ivation)                                                                                         \n",
      "                                                                                                  \n",
      " block3b_dwconv (DepthwiseConv2  (None, 28, 28, 240)  6000       ['block3b_expand_activation[0][0]\n",
      " D)                                                              ']                               \n",
      "                                                                                                  \n",
      " block3b_bn (BatchNormalization  (None, 28, 28, 240)  960        ['block3b_dwconv[0][0]']         \n",
      " )                                                                                                \n",
      "                                                                                                  \n",
      " block3b_activation (Activation  (None, 28, 28, 240)  0          ['block3b_bn[0][0]']             \n",
      " )                                                                                                \n",
      "                                                                                                  \n",
      " block3b_se_squeeze (GlobalAver  (None, 240)         0           ['block3b_activation[0][0]']     \n",
      " agePooling2D)                                                                                    \n",
      "                                                                                                  \n",
      " block3b_se_reshape (Reshape)   (None, 1, 1, 240)    0           ['block3b_se_squeeze[0][0]']     \n",
      "                                                                                                  \n",
      " block3b_se_reduce (Conv2D)     (None, 1, 1, 10)     2410        ['block3b_se_reshape[0][0]']     \n",
      "                                                                                                  \n",
      " block3b_se_expand (Conv2D)     (None, 1, 1, 240)    2640        ['block3b_se_reduce[0][0]']      \n",
      "                                                                                                  \n",
      " block3b_se_excite (Multiply)   (None, 28, 28, 240)  0           ['block3b_activation[0][0]',     \n",
      "                                                                  'block3b_se_expand[0][0]']      \n",
      "                                                                                                  \n",
      " block3b_project_conv (Conv2D)  (None, 28, 28, 40)   9600        ['block3b_se_excite[0][0]']      \n",
      "                                                                                                  \n",
      " block3b_project_bn (BatchNorma  (None, 28, 28, 40)  160         ['block3b_project_conv[0][0]']   \n",
      " lization)                                                                                        \n",
      "                                                                                                  \n",
      " block3b_drop (Dropout)         (None, 28, 28, 40)   0           ['block3b_project_bn[0][0]']     \n",
      "                                                                                                  \n",
      " block3b_add (Add)              (None, 28, 28, 40)   0           ['block3b_drop[0][0]',           \n",
      "                                                                  'block3a_project_bn[0][0]']     \n",
      "                                                                                                  \n",
      " block4a_expand_conv (Conv2D)   (None, 28, 28, 240)  9600        ['block3b_add[0][0]']            \n",
      "                                                                                                  \n",
      " block4a_expand_bn (BatchNormal  (None, 28, 28, 240)  960        ['block4a_expand_conv[0][0]']    \n",
      " ization)                                                                                         \n",
      "                                                                                                  \n",
      " block4a_expand_activation (Act  (None, 28, 28, 240)  0          ['block4a_expand_bn[0][0]']      \n",
      " ivation)                                                                                         \n",
      "                                                                                                  \n",
      " block4a_dwconv_pad (ZeroPaddin  (None, 29, 29, 240)  0          ['block4a_expand_activation[0][0]\n",
      " g2D)                                                            ']                               \n",
      "                                                                                                  \n",
      " block4a_dwconv (DepthwiseConv2  (None, 14, 14, 240)  2160       ['block4a_dwconv_pad[0][0]']     \n",
      " D)                                                                                               \n",
      "                                                                                                  \n",
      " block4a_bn (BatchNormalization  (None, 14, 14, 240)  960        ['block4a_dwconv[0][0]']         \n",
      " )                                                                                                \n",
      "                                                                                                  \n",
      " block4a_activation (Activation  (None, 14, 14, 240)  0          ['block4a_bn[0][0]']             \n",
      " )                                                                                                \n",
      "                                                                                                  \n",
      " block4a_se_squeeze (GlobalAver  (None, 240)         0           ['block4a_activation[0][0]']     \n",
      " agePooling2D)                                                                                    \n",
      "                                                                                                  \n",
      " block4a_se_reshape (Reshape)   (None, 1, 1, 240)    0           ['block4a_se_squeeze[0][0]']     \n",
      "                                                                                                  \n",
      " block4a_se_reduce (Conv2D)     (None, 1, 1, 10)     2410        ['block4a_se_reshape[0][0]']     \n",
      "                                                                                                  \n",
      " block4a_se_expand (Conv2D)     (None, 1, 1, 240)    2640        ['block4a_se_reduce[0][0]']      \n",
      "                                                                                                  \n",
      " block4a_se_excite (Multiply)   (None, 14, 14, 240)  0           ['block4a_activation[0][0]',     \n",
      "                                                                  'block4a_se_expand[0][0]']      \n",
      "                                                                                                  \n",
      " block4a_project_conv (Conv2D)  (None, 14, 14, 80)   19200       ['block4a_se_excite[0][0]']      \n",
      "                                                                                                  \n",
      " block4a_project_bn (BatchNorma  (None, 14, 14, 80)  320         ['block4a_project_conv[0][0]']   \n",
      " lization)                                                                                        \n",
      "                                                                                                  \n",
      " block4b_expand_conv (Conv2D)   (None, 14, 14, 480)  38400       ['block4a_project_bn[0][0]']     \n",
      "                                                                                                  \n",
      " block4b_expand_bn (BatchNormal  (None, 14, 14, 480)  1920       ['block4b_expand_conv[0][0]']    \n",
      " ization)                                                                                         \n",
      "                                                                                                  \n",
      " block4b_expand_activation (Act  (None, 14, 14, 480)  0          ['block4b_expand_bn[0][0]']      \n",
      " ivation)                                                                                         \n",
      "                                                                                                  \n",
      " block4b_dwconv (DepthwiseConv2  (None, 14, 14, 480)  4320       ['block4b_expand_activation[0][0]\n",
      " D)                                                              ']                               \n",
      "                                                                                                  \n",
      " block4b_bn (BatchNormalization  (None, 14, 14, 480)  1920       ['block4b_dwconv[0][0]']         \n",
      " )                                                                                                \n",
      "                                                                                                  \n",
      " block4b_activation (Activation  (None, 14, 14, 480)  0          ['block4b_bn[0][0]']             \n",
      " )                                                                                                \n",
      "                                                                                                  \n",
      " block4b_se_squeeze (GlobalAver  (None, 480)         0           ['block4b_activation[0][0]']     \n",
      " agePooling2D)                                                                                    \n",
      "                                                                                                  \n",
      " block4b_se_reshape (Reshape)   (None, 1, 1, 480)    0           ['block4b_se_squeeze[0][0]']     \n",
      "                                                                                                  \n",
      " block4b_se_reduce (Conv2D)     (None, 1, 1, 20)     9620        ['block4b_se_reshape[0][0]']     \n",
      "                                                                                                  \n",
      " block4b_se_expand (Conv2D)     (None, 1, 1, 480)    10080       ['block4b_se_reduce[0][0]']      \n",
      "                                                                                                  \n",
      " block4b_se_excite (Multiply)   (None, 14, 14, 480)  0           ['block4b_activation[0][0]',     \n",
      "                                                                  'block4b_se_expand[0][0]']      \n",
      "                                                                                                  \n",
      " block4b_project_conv (Conv2D)  (None, 14, 14, 80)   38400       ['block4b_se_excite[0][0]']      \n",
      "                                                                                                  \n",
      " block4b_project_bn (BatchNorma  (None, 14, 14, 80)  320         ['block4b_project_conv[0][0]']   \n",
      " lization)                                                                                        \n",
      "                                                                                                  \n",
      " block4b_drop (Dropout)         (None, 14, 14, 80)   0           ['block4b_project_bn[0][0]']     \n",
      "                                                                                                  \n",
      " block4b_add (Add)              (None, 14, 14, 80)   0           ['block4b_drop[0][0]',           \n",
      "                                                                  'block4a_project_bn[0][0]']     \n",
      "                                                                                                  \n",
      " block4c_expand_conv (Conv2D)   (None, 14, 14, 480)  38400       ['block4b_add[0][0]']            \n",
      "                                                                                                  \n",
      " block4c_expand_bn (BatchNormal  (None, 14, 14, 480)  1920       ['block4c_expand_conv[0][0]']    \n",
      " ization)                                                                                         \n",
      "                                                                                                  \n",
      " block4c_expand_activation (Act  (None, 14, 14, 480)  0          ['block4c_expand_bn[0][0]']      \n",
      " ivation)                                                                                         \n",
      "                                                                                                  \n",
      " block4c_dwconv (DepthwiseConv2  (None, 14, 14, 480)  4320       ['block4c_expand_activation[0][0]\n",
      " D)                                                              ']                               \n",
      "                                                                                                  \n",
      " block4c_bn (BatchNormalization  (None, 14, 14, 480)  1920       ['block4c_dwconv[0][0]']         \n",
      " )                                                                                                \n",
      "                                                                                                  \n",
      " block4c_activation (Activation  (None, 14, 14, 480)  0          ['block4c_bn[0][0]']             \n",
      " )                                                                                                \n",
      "                                                                                                  \n",
      " block4c_se_squeeze (GlobalAver  (None, 480)         0           ['block4c_activation[0][0]']     \n",
      " agePooling2D)                                                                                    \n",
      "                                                                                                  \n",
      " block4c_se_reshape (Reshape)   (None, 1, 1, 480)    0           ['block4c_se_squeeze[0][0]']     \n",
      "                                                                                                  \n",
      " block4c_se_reduce (Conv2D)     (None, 1, 1, 20)     9620        ['block4c_se_reshape[0][0]']     \n",
      "                                                                                                  \n",
      " block4c_se_expand (Conv2D)     (None, 1, 1, 480)    10080       ['block4c_se_reduce[0][0]']      \n",
      "                                                                                                  \n",
      " block4c_se_excite (Multiply)   (None, 14, 14, 480)  0           ['block4c_activation[0][0]',     \n",
      "                                                                  'block4c_se_expand[0][0]']      \n",
      "                                                                                                  \n",
      " block4c_project_conv (Conv2D)  (None, 14, 14, 80)   38400       ['block4c_se_excite[0][0]']      \n",
      "                                                                                                  \n",
      " block4c_project_bn (BatchNorma  (None, 14, 14, 80)  320         ['block4c_project_conv[0][0]']   \n",
      " lization)                                                                                        \n",
      "                                                                                                  \n",
      " block4c_drop (Dropout)         (None, 14, 14, 80)   0           ['block4c_project_bn[0][0]']     \n",
      "                                                                                                  \n",
      " block4c_add (Add)              (None, 14, 14, 80)   0           ['block4c_drop[0][0]',           \n",
      "                                                                  'block4b_add[0][0]']            \n",
      "                                                                                                  \n",
      " block5a_expand_conv (Conv2D)   (None, 14, 14, 480)  38400       ['block4c_add[0][0]']            \n",
      "                                                                                                  \n",
      " block5a_expand_bn (BatchNormal  (None, 14, 14, 480)  1920       ['block5a_expand_conv[0][0]']    \n",
      " ization)                                                                                         \n",
      "                                                                                                  \n",
      " block5a_expand_activation (Act  (None, 14, 14, 480)  0          ['block5a_expand_bn[0][0]']      \n",
      " ivation)                                                                                         \n",
      "                                                                                                  \n",
      " block5a_dwconv (DepthwiseConv2  (None, 14, 14, 480)  12000      ['block5a_expand_activation[0][0]\n",
      " D)                                                              ']                               \n",
      "                                                                                                  \n",
      " block5a_bn (BatchNormalization  (None, 14, 14, 480)  1920       ['block5a_dwconv[0][0]']         \n",
      " )                                                                                                \n",
      "                                                                                                  \n",
      " block5a_activation (Activation  (None, 14, 14, 480)  0          ['block5a_bn[0][0]']             \n",
      " )                                                                                                \n",
      "                                                                                                  \n",
      " block5a_se_squeeze (GlobalAver  (None, 480)         0           ['block5a_activation[0][0]']     \n",
      " agePooling2D)                                                                                    \n",
      "                                                                                                  \n",
      " block5a_se_reshape (Reshape)   (None, 1, 1, 480)    0           ['block5a_se_squeeze[0][0]']     \n",
      "                                                                                                  \n",
      " block5a_se_reduce (Conv2D)     (None, 1, 1, 20)     9620        ['block5a_se_reshape[0][0]']     \n",
      "                                                                                                  \n",
      " block5a_se_expand (Conv2D)     (None, 1, 1, 480)    10080       ['block5a_se_reduce[0][0]']      \n",
      "                                                                                                  \n",
      " block5a_se_excite (Multiply)   (None, 14, 14, 480)  0           ['block5a_activation[0][0]',     \n",
      "                                                                  'block5a_se_expand[0][0]']      \n",
      "                                                                                                  \n",
      " block5a_project_conv (Conv2D)  (None, 14, 14, 112)  53760       ['block5a_se_excite[0][0]']      \n",
      "                                                                                                  \n",
      " block5a_project_bn (BatchNorma  (None, 14, 14, 112)  448        ['block5a_project_conv[0][0]']   \n",
      " lization)                                                                                        \n",
      "                                                                                                  \n",
      " block5b_expand_conv (Conv2D)   (None, 14, 14, 672)  75264       ['block5a_project_bn[0][0]']     \n",
      "                                                                                                  \n",
      " block5b_expand_bn (BatchNormal  (None, 14, 14, 672)  2688       ['block5b_expand_conv[0][0]']    \n",
      " ization)                                                                                         \n",
      "                                                                                                  \n",
      " block5b_expand_activation (Act  (None, 14, 14, 672)  0          ['block5b_expand_bn[0][0]']      \n",
      " ivation)                                                                                         \n",
      "                                                                                                  \n",
      " block5b_dwconv (DepthwiseConv2  (None, 14, 14, 672)  16800      ['block5b_expand_activation[0][0]\n",
      " D)                                                              ']                               \n",
      "                                                                                                  \n",
      " block5b_bn (BatchNormalization  (None, 14, 14, 672)  2688       ['block5b_dwconv[0][0]']         \n",
      " )                                                                                                \n",
      "                                                                                                  \n",
      " block5b_activation (Activation  (None, 14, 14, 672)  0          ['block5b_bn[0][0]']             \n",
      " )                                                                                                \n",
      "                                                                                                  \n",
      " block5b_se_squeeze (GlobalAver  (None, 672)         0           ['block5b_activation[0][0]']     \n",
      " agePooling2D)                                                                                    \n",
      "                                                                                                  \n",
      " block5b_se_reshape (Reshape)   (None, 1, 1, 672)    0           ['block5b_se_squeeze[0][0]']     \n",
      "                                                                                                  \n",
      " block5b_se_reduce (Conv2D)     (None, 1, 1, 28)     18844       ['block5b_se_reshape[0][0]']     \n",
      "                                                                                                  \n",
      " block5b_se_expand (Conv2D)     (None, 1, 1, 672)    19488       ['block5b_se_reduce[0][0]']      \n",
      "                                                                                                  \n",
      " block5b_se_excite (Multiply)   (None, 14, 14, 672)  0           ['block5b_activation[0][0]',     \n",
      "                                                                  'block5b_se_expand[0][0]']      \n",
      "                                                                                                  \n",
      " block5b_project_conv (Conv2D)  (None, 14, 14, 112)  75264       ['block5b_se_excite[0][0]']      \n",
      "                                                                                                  \n",
      " block5b_project_bn (BatchNorma  (None, 14, 14, 112)  448        ['block5b_project_conv[0][0]']   \n",
      " lization)                                                                                        \n",
      "                                                                                                  \n",
      " block5b_drop (Dropout)         (None, 14, 14, 112)  0           ['block5b_project_bn[0][0]']     \n",
      "                                                                                                  \n",
      " block5b_add (Add)              (None, 14, 14, 112)  0           ['block5b_drop[0][0]',           \n",
      "                                                                  'block5a_project_bn[0][0]']     \n",
      "                                                                                                  \n",
      " block5c_expand_conv (Conv2D)   (None, 14, 14, 672)  75264       ['block5b_add[0][0]']            \n",
      "                                                                                                  \n",
      " block5c_expand_bn (BatchNormal  (None, 14, 14, 672)  2688       ['block5c_expand_conv[0][0]']    \n",
      " ization)                                                                                         \n",
      "                                                                                                  \n",
      " block5c_expand_activation (Act  (None, 14, 14, 672)  0          ['block5c_expand_bn[0][0]']      \n",
      " ivation)                                                                                         \n",
      "                                                                                                  \n",
      " block5c_dwconv (DepthwiseConv2  (None, 14, 14, 672)  16800      ['block5c_expand_activation[0][0]\n",
      " D)                                                              ']                               \n",
      "                                                                                                  \n",
      " block5c_bn (BatchNormalization  (None, 14, 14, 672)  2688       ['block5c_dwconv[0][0]']         \n",
      " )                                                                                                \n",
      "                                                                                                  \n",
      " block5c_activation (Activation  (None, 14, 14, 672)  0          ['block5c_bn[0][0]']             \n",
      " )                                                                                                \n",
      "                                                                                                  \n",
      " block5c_se_squeeze (GlobalAver  (None, 672)         0           ['block5c_activation[0][0]']     \n",
      " agePooling2D)                                                                                    \n",
      "                                                                                                  \n",
      " block5c_se_reshape (Reshape)   (None, 1, 1, 672)    0           ['block5c_se_squeeze[0][0]']     \n",
      "                                                                                                  \n",
      " block5c_se_reduce (Conv2D)     (None, 1, 1, 28)     18844       ['block5c_se_reshape[0][0]']     \n",
      "                                                                                                  \n",
      " block5c_se_expand (Conv2D)     (None, 1, 1, 672)    19488       ['block5c_se_reduce[0][0]']      \n",
      "                                                                                                  \n",
      " block5c_se_excite (Multiply)   (None, 14, 14, 672)  0           ['block5c_activation[0][0]',     \n",
      "                                                                  'block5c_se_expand[0][0]']      \n",
      "                                                                                                  \n",
      " block5c_project_conv (Conv2D)  (None, 14, 14, 112)  75264       ['block5c_se_excite[0][0]']      \n",
      "                                                                                                  \n",
      " block5c_project_bn (BatchNorma  (None, 14, 14, 112)  448        ['block5c_project_conv[0][0]']   \n",
      " lization)                                                                                        \n",
      "                                                                                                  \n",
      " block5c_drop (Dropout)         (None, 14, 14, 112)  0           ['block5c_project_bn[0][0]']     \n",
      "                                                                                                  \n",
      " block5c_add (Add)              (None, 14, 14, 112)  0           ['block5c_drop[0][0]',           \n",
      "                                                                  'block5b_add[0][0]']            \n",
      "                                                                                                  \n",
      " block6a_expand_conv (Conv2D)   (None, 14, 14, 672)  75264       ['block5c_add[0][0]']            \n",
      "                                                                                                  \n",
      " block6a_expand_bn (BatchNormal  (None, 14, 14, 672)  2688       ['block6a_expand_conv[0][0]']    \n",
      " ization)                                                                                         \n",
      "                                                                                                  \n",
      " block6a_expand_activation (Act  (None, 14, 14, 672)  0          ['block6a_expand_bn[0][0]']      \n",
      " ivation)                                                                                         \n",
      "                                                                                                  \n",
      " block6a_dwconv_pad (ZeroPaddin  (None, 17, 17, 672)  0          ['block6a_expand_activation[0][0]\n",
      " g2D)                                                            ']                               \n",
      "                                                                                                  \n",
      " block6a_dwconv (DepthwiseConv2  (None, 7, 7, 672)   16800       ['block6a_dwconv_pad[0][0]']     \n",
      " D)                                                                                               \n",
      "                                                                                                  \n",
      " block6a_bn (BatchNormalization  (None, 7, 7, 672)   2688        ['block6a_dwconv[0][0]']         \n",
      " )                                                                                                \n",
      "                                                                                                  \n",
      " block6a_activation (Activation  (None, 7, 7, 672)   0           ['block6a_bn[0][0]']             \n",
      " )                                                                                                \n",
      "                                                                                                  \n",
      " block6a_se_squeeze (GlobalAver  (None, 672)         0           ['block6a_activation[0][0]']     \n",
      " agePooling2D)                                                                                    \n",
      "                                                                                                  \n",
      " block6a_se_reshape (Reshape)   (None, 1, 1, 672)    0           ['block6a_se_squeeze[0][0]']     \n",
      "                                                                                                  \n",
      " block6a_se_reduce (Conv2D)     (None, 1, 1, 28)     18844       ['block6a_se_reshape[0][0]']     \n",
      "                                                                                                  \n",
      " block6a_se_expand (Conv2D)     (None, 1, 1, 672)    19488       ['block6a_se_reduce[0][0]']      \n",
      "                                                                                                  \n",
      " block6a_se_excite (Multiply)   (None, 7, 7, 672)    0           ['block6a_activation[0][0]',     \n",
      "                                                                  'block6a_se_expand[0][0]']      \n",
      "                                                                                                  \n",
      " block6a_project_conv (Conv2D)  (None, 7, 7, 192)    129024      ['block6a_se_excite[0][0]']      \n",
      "                                                                                                  \n",
      " block6a_project_bn (BatchNorma  (None, 7, 7, 192)   768         ['block6a_project_conv[0][0]']   \n",
      " lization)                                                                                        \n",
      "                                                                                                  \n",
      " block6b_expand_conv (Conv2D)   (None, 7, 7, 1152)   221184      ['block6a_project_bn[0][0]']     \n",
      "                                                                                                  \n",
      " block6b_expand_bn (BatchNormal  (None, 7, 7, 1152)  4608        ['block6b_expand_conv[0][0]']    \n",
      " ization)                                                                                         \n",
      "                                                                                                  \n",
      " block6b_expand_activation (Act  (None, 7, 7, 1152)  0           ['block6b_expand_bn[0][0]']      \n",
      " ivation)                                                                                         \n",
      "                                                                                                  \n",
      " block6b_dwconv (DepthwiseConv2  (None, 7, 7, 1152)  28800       ['block6b_expand_activation[0][0]\n",
      " D)                                                              ']                               \n",
      "                                                                                                  \n",
      " block6b_bn (BatchNormalization  (None, 7, 7, 1152)  4608        ['block6b_dwconv[0][0]']         \n",
      " )                                                                                                \n",
      "                                                                                                  \n",
      " block6b_activation (Activation  (None, 7, 7, 1152)  0           ['block6b_bn[0][0]']             \n",
      " )                                                                                                \n",
      "                                                                                                  \n",
      " block6b_se_squeeze (GlobalAver  (None, 1152)        0           ['block6b_activation[0][0]']     \n",
      " agePooling2D)                                                                                    \n",
      "                                                                                                  \n",
      " block6b_se_reshape (Reshape)   (None, 1, 1, 1152)   0           ['block6b_se_squeeze[0][0]']     \n",
      "                                                                                                  \n",
      " block6b_se_reduce (Conv2D)     (None, 1, 1, 48)     55344       ['block6b_se_reshape[0][0]']     \n",
      "                                                                                                  \n",
      " block6b_se_expand (Conv2D)     (None, 1, 1, 1152)   56448       ['block6b_se_reduce[0][0]']      \n",
      "                                                                                                  \n",
      " block6b_se_excite (Multiply)   (None, 7, 7, 1152)   0           ['block6b_activation[0][0]',     \n",
      "                                                                  'block6b_se_expand[0][0]']      \n",
      "                                                                                                  \n",
      " block6b_project_conv (Conv2D)  (None, 7, 7, 192)    221184      ['block6b_se_excite[0][0]']      \n",
      "                                                                                                  \n",
      " block6b_project_bn (BatchNorma  (None, 7, 7, 192)   768         ['block6b_project_conv[0][0]']   \n",
      " lization)                                                                                        \n",
      "                                                                                                  \n",
      " block6b_drop (Dropout)         (None, 7, 7, 192)    0           ['block6b_project_bn[0][0]']     \n",
      "                                                                                                  \n",
      " block6b_add (Add)              (None, 7, 7, 192)    0           ['block6b_drop[0][0]',           \n",
      "                                                                  'block6a_project_bn[0][0]']     \n",
      "                                                                                                  \n",
      " block6c_expand_conv (Conv2D)   (None, 7, 7, 1152)   221184      ['block6b_add[0][0]']            \n",
      "                                                                                                  \n",
      " block6c_expand_bn (BatchNormal  (None, 7, 7, 1152)  4608        ['block6c_expand_conv[0][0]']    \n",
      " ization)                                                                                         \n",
      "                                                                                                  \n",
      " block6c_expand_activation (Act  (None, 7, 7, 1152)  0           ['block6c_expand_bn[0][0]']      \n",
      " ivation)                                                                                         \n",
      "                                                                                                  \n",
      " block6c_dwconv (DepthwiseConv2  (None, 7, 7, 1152)  28800       ['block6c_expand_activation[0][0]\n",
      " D)                                                              ']                               \n",
      "                                                                                                  \n",
      " block6c_bn (BatchNormalization  (None, 7, 7, 1152)  4608        ['block6c_dwconv[0][0]']         \n",
      " )                                                                                                \n",
      "                                                                                                  \n",
      " block6c_activation (Activation  (None, 7, 7, 1152)  0           ['block6c_bn[0][0]']             \n",
      " )                                                                                                \n",
      "                                                                                                  \n",
      " block6c_se_squeeze (GlobalAver  (None, 1152)        0           ['block6c_activation[0][0]']     \n",
      " agePooling2D)                                                                                    \n",
      "                                                                                                  \n",
      " block6c_se_reshape (Reshape)   (None, 1, 1, 1152)   0           ['block6c_se_squeeze[0][0]']     \n",
      "                                                                                                  \n",
      " block6c_se_reduce (Conv2D)     (None, 1, 1, 48)     55344       ['block6c_se_reshape[0][0]']     \n",
      "                                                                                                  \n",
      " block6c_se_expand (Conv2D)     (None, 1, 1, 1152)   56448       ['block6c_se_reduce[0][0]']      \n",
      "                                                                                                  \n",
      " block6c_se_excite (Multiply)   (None, 7, 7, 1152)   0           ['block6c_activation[0][0]',     \n",
      "                                                                  'block6c_se_expand[0][0]']      \n",
      "                                                                                                  \n",
      " block6c_project_conv (Conv2D)  (None, 7, 7, 192)    221184      ['block6c_se_excite[0][0]']      \n",
      "                                                                                                  \n",
      " block6c_project_bn (BatchNorma  (None, 7, 7, 192)   768         ['block6c_project_conv[0][0]']   \n",
      " lization)                                                                                        \n",
      "                                                                                                  \n",
      " block6c_drop (Dropout)         (None, 7, 7, 192)    0           ['block6c_project_bn[0][0]']     \n",
      "                                                                                                  \n",
      " block6c_add (Add)              (None, 7, 7, 192)    0           ['block6c_drop[0][0]',           \n",
      "                                                                  'block6b_add[0][0]']            \n",
      "                                                                                                  \n",
      " block6d_expand_conv (Conv2D)   (None, 7, 7, 1152)   221184      ['block6c_add[0][0]']            \n",
      "                                                                                                  \n",
      " block6d_expand_bn (BatchNormal  (None, 7, 7, 1152)  4608        ['block6d_expand_conv[0][0]']    \n",
      " ization)                                                                                         \n",
      "                                                                                                  \n",
      " block6d_expand_activation (Act  (None, 7, 7, 1152)  0           ['block6d_expand_bn[0][0]']      \n",
      " ivation)                                                                                         \n",
      "                                                                                                  \n",
      " block6d_dwconv (DepthwiseConv2  (None, 7, 7, 1152)  28800       ['block6d_expand_activation[0][0]\n",
      " D)                                                              ']                               \n",
      "                                                                                                  \n",
      " block6d_bn (BatchNormalization  (None, 7, 7, 1152)  4608        ['block6d_dwconv[0][0]']         \n",
      " )                                                                                                \n",
      "                                                                                                  \n",
      " block6d_activation (Activation  (None, 7, 7, 1152)  0           ['block6d_bn[0][0]']             \n",
      " )                                                                                                \n",
      "                                                                                                  \n",
      " block6d_se_squeeze (GlobalAver  (None, 1152)        0           ['block6d_activation[0][0]']     \n",
      " agePooling2D)                                                                                    \n",
      "                                                                                                  \n",
      " block6d_se_reshape (Reshape)   (None, 1, 1, 1152)   0           ['block6d_se_squeeze[0][0]']     \n",
      "                                                                                                  \n",
      " block6d_se_reduce (Conv2D)     (None, 1, 1, 48)     55344       ['block6d_se_reshape[0][0]']     \n",
      "                                                                                                  \n",
      " block6d_se_expand (Conv2D)     (None, 1, 1, 1152)   56448       ['block6d_se_reduce[0][0]']      \n",
      "                                                                                                  \n",
      " block6d_se_excite (Multiply)   (None, 7, 7, 1152)   0           ['block6d_activation[0][0]',     \n",
      "                                                                  'block6d_se_expand[0][0]']      \n",
      "                                                                                                  \n",
      " block6d_project_conv (Conv2D)  (None, 7, 7, 192)    221184      ['block6d_se_excite[0][0]']      \n",
      "                                                                                                  \n",
      " block6d_project_bn (BatchNorma  (None, 7, 7, 192)   768         ['block6d_project_conv[0][0]']   \n",
      " lization)                                                                                        \n",
      "                                                                                                  \n",
      " block6d_drop (Dropout)         (None, 7, 7, 192)    0           ['block6d_project_bn[0][0]']     \n",
      "                                                                                                  \n",
      " block6d_add (Add)              (None, 7, 7, 192)    0           ['block6d_drop[0][0]',           \n",
      "                                                                  'block6c_add[0][0]']            \n",
      "                                                                                                  \n",
      " block7a_expand_conv (Conv2D)   (None, 7, 7, 1152)   221184      ['block6d_add[0][0]']            \n",
      "                                                                                                  \n",
      " block7a_expand_bn (BatchNormal  (None, 7, 7, 1152)  4608        ['block7a_expand_conv[0][0]']    \n",
      " ization)                                                                                         \n",
      "                                                                                                  \n",
      " block7a_expand_activation (Act  (None, 7, 7, 1152)  0           ['block7a_expand_bn[0][0]']      \n",
      " ivation)                                                                                         \n",
      "                                                                                                  \n",
      " block7a_dwconv (DepthwiseConv2  (None, 7, 7, 1152)  10368       ['block7a_expand_activation[0][0]\n",
      " D)                                                              ']                               \n",
      "                                                                                                  \n",
      " block7a_bn (BatchNormalization  (None, 7, 7, 1152)  4608        ['block7a_dwconv[0][0]']         \n",
      " )                                                                                                \n",
      "                                                                                                  \n",
      " block7a_activation (Activation  (None, 7, 7, 1152)  0           ['block7a_bn[0][0]']             \n",
      " )                                                                                                \n",
      "                                                                                                  \n",
      " block7a_se_squeeze (GlobalAver  (None, 1152)        0           ['block7a_activation[0][0]']     \n",
      " agePooling2D)                                                                                    \n",
      "                                                                                                  \n",
      " block7a_se_reshape (Reshape)   (None, 1, 1, 1152)   0           ['block7a_se_squeeze[0][0]']     \n",
      "                                                                                                  \n",
      " block7a_se_reduce (Conv2D)     (None, 1, 1, 48)     55344       ['block7a_se_reshape[0][0]']     \n",
      "                                                                                                  \n",
      " block7a_se_expand (Conv2D)     (None, 1, 1, 1152)   56448       ['block7a_se_reduce[0][0]']      \n",
      "                                                                                                  \n",
      " block7a_se_excite (Multiply)   (None, 7, 7, 1152)   0           ['block7a_activation[0][0]',     \n",
      "                                                                  'block7a_se_expand[0][0]']      \n",
      "                                                                                                  \n",
      " block7a_project_conv (Conv2D)  (None, 7, 7, 320)    368640      ['block7a_se_excite[0][0]']      \n",
      "                                                                                                  \n",
      " block7a_project_bn (BatchNorma  (None, 7, 7, 320)   1280        ['block7a_project_conv[0][0]']   \n",
      " lization)                                                                                        \n",
      "                                                                                                  \n",
      " top_conv (Conv2D)              (None, 7, 7, 1280)   409600      ['block7a_project_bn[0][0]']     \n",
      "                                                                                                  \n",
      " top_bn (BatchNormalization)    (None, 7, 7, 1280)   5120        ['top_conv[0][0]']               \n",
      "                                                                                                  \n",
      " top_activation (Activation)    (None, 7, 7, 1280)   0           ['top_bn[0][0]']                 \n",
      "                                                                                                  \n",
      " avg_pool (GlobalAveragePooling  (None, 1280)        0           ['top_activation[0][0]']         \n",
      " 2D)                                                                                              \n",
      "                                                                                                  \n",
      " top_dropout (Dropout)          (None, 1280)         0           ['avg_pool[0][0]']               \n",
      "                                                                                                  \n",
      " predictions (Dense)            (None, 1000)         1281000     ['top_dropout[0][0]']            \n",
      "                                                                                                  \n",
      " flatten_3 (Flatten)            (None, 1000)         0           ['predictions[0][0]']            \n",
      "                                                                                                  \n",
      " dense_3 (Dense)                (None, 20)           20020       ['flatten_3[0][0]']              \n",
      "                                                                                                  \n",
      " batch_normalization_3 (BatchNo  (None, 20)          80          ['dense_3[0][0]']                \n",
      " rmalization)                                                                                     \n",
      "                                                                                                  \n",
      " activation_6 (Activation)      (None, 20)           0           ['batch_normalization_3[0][0]']  \n",
      "                                                                                                  \n",
      " dropout_3 (Dropout)            (None, 20)           0           ['activation_6[0][0]']           \n",
      "                                                                                                  \n",
      " activation_7 (Activation)      (None, 20)           0           ['dropout_3[0][0]']              \n",
      "                                                                                                  \n",
      "==================================================================================================\n",
      "Total params: 5,350,671\n",
      "Trainable params: 5,308,608\n",
      "Non-trainable params: 42,063\n",
      "__________________________________________________________________________________________________\n"
     ]
    }
   ],
   "source": [
    "model1.summary()"
   ]
  },
  {
   "cell_type": "code",
   "execution_count": 33,
   "id": "8b7efadf",
   "metadata": {
    "colab": {
     "base_uri": "https://localhost:8080/"
    },
    "id": "8b7efadf",
    "outputId": "c59bc3c0-00bf-46aa-e917-f5340368a8b7"
   },
   "outputs": [
    {
     "name": "stdout",
     "output_type": "stream",
     "text": [
      "Epoch 1/80\n",
      "26/26 [==============================] - 26s 985ms/step - loss: 2.9215 - accuracy: 0.1693 - val_loss: 2.9849 - val_accuracy: 0.1573 - lr: 0.0010\n",
      "Epoch 2/80\n",
      "26/26 [==============================] - 23s 861ms/step - loss: 2.6575 - accuracy: 0.2938 - val_loss: 2.9632 - val_accuracy: 0.3202 - lr: 0.0010\n",
      "Epoch 3/80\n",
      "26/26 [==============================] - 23s 838ms/step - loss: 2.3949 - accuracy: 0.3809 - val_loss: 2.9160 - val_accuracy: 0.4944 - lr: 0.0010\n",
      "Epoch 4/80\n",
      "26/26 [==============================] - 22s 828ms/step - loss: 2.1153 - accuracy: 0.4547 - val_loss: 2.8896 - val_accuracy: 0.5281 - lr: 0.0010\n",
      "Epoch 5/80\n",
      "26/26 [==============================] - 22s 820ms/step - loss: 2.0207 - accuracy: 0.4764 - val_loss: 2.8890 - val_accuracy: 0.3820 - lr: 0.0010\n",
      "Epoch 6/80\n",
      "26/26 [==============================] - 22s 813ms/step - loss: 2.0023 - accuracy: 0.4547 - val_loss: 2.8627 - val_accuracy: 0.4101 - lr: 0.0010\n",
      "Epoch 7/80\n",
      "26/26 [==============================] - 22s 820ms/step - loss: 1.9971 - accuracy: 0.4728 - val_loss: 2.8187 - val_accuracy: 0.4494 - lr: 0.0010\n",
      "Epoch 8/80\n",
      "26/26 [==============================] - 22s 827ms/step - loss: 1.7628 - accuracy: 0.5490 - val_loss: 2.7547 - val_accuracy: 0.5337 - lr: 2.0000e-04\n",
      "Epoch 9/80\n",
      "26/26 [==============================] - 22s 814ms/step - loss: 1.7090 - accuracy: 0.5744 - val_loss: 2.6769 - val_accuracy: 0.6180 - lr: 2.0000e-04\n",
      "Epoch 10/80\n",
      "26/26 [==============================] - 22s 829ms/step - loss: 1.5950 - accuracy: 0.5961 - val_loss: 2.6091 - val_accuracy: 0.6629 - lr: 2.0000e-04\n",
      "Epoch 11/80\n",
      "26/26 [==============================] - 22s 823ms/step - loss: 1.5652 - accuracy: 0.6167 - val_loss: 2.5341 - val_accuracy: 0.6910 - lr: 2.0000e-04\n",
      "Epoch 12/80\n",
      "26/26 [==============================] - 22s 822ms/step - loss: 1.5454 - accuracy: 0.6155 - val_loss: 2.4712 - val_accuracy: 0.6966 - lr: 2.0000e-04\n",
      "Epoch 13/80\n",
      "26/26 [==============================] - 22s 826ms/step - loss: 1.4730 - accuracy: 0.6324 - val_loss: 2.3667 - val_accuracy: 0.7247 - lr: 2.0000e-04\n",
      "Epoch 14/80\n",
      "26/26 [==============================] - 22s 819ms/step - loss: 1.4170 - accuracy: 0.6518 - val_loss: 2.2995 - val_accuracy: 0.7247 - lr: 2.0000e-04\n",
      "Epoch 15/80\n",
      "26/26 [==============================] - 22s 823ms/step - loss: 1.3841 - accuracy: 0.6651 - val_loss: 2.1990 - val_accuracy: 0.7247 - lr: 2.0000e-04\n",
      "Epoch 16/80\n",
      "26/26 [==============================] - 23s 863ms/step - loss: 1.3481 - accuracy: 0.6663 - val_loss: 2.0885 - val_accuracy: 0.7472 - lr: 2.0000e-04\n",
      "Epoch 17/80\n",
      "26/26 [==============================] - 23s 839ms/step - loss: 1.3066 - accuracy: 0.6759 - val_loss: 2.0176 - val_accuracy: 0.7303 - lr: 2.0000e-04\n",
      "Epoch 18/80\n",
      "26/26 [==============================] - 22s 825ms/step - loss: 1.2887 - accuracy: 0.6784 - val_loss: 1.9439 - val_accuracy: 0.7191 - lr: 2.0000e-04\n",
      "Epoch 19/80\n",
      "26/26 [==============================] - 22s 829ms/step - loss: 1.2753 - accuracy: 0.6929 - val_loss: 1.8683 - val_accuracy: 0.7022 - lr: 2.0000e-04\n",
      "Epoch 20/80\n",
      "26/26 [==============================] - 23s 851ms/step - loss: 1.1955 - accuracy: 0.7146 - val_loss: 1.7562 - val_accuracy: 0.7247 - lr: 4.0000e-05\n",
      "Epoch 21/80\n",
      "26/26 [==============================] - 22s 816ms/step - loss: 1.2766 - accuracy: 0.6832 - val_loss: 1.6375 - val_accuracy: 0.7360 - lr: 4.0000e-05\n",
      "Epoch 22/80\n",
      "26/26 [==============================] - 22s 817ms/step - loss: 1.2240 - accuracy: 0.7086 - val_loss: 1.5539 - val_accuracy: 0.7360 - lr: 4.0000e-05\n",
      "Epoch 23/80\n",
      "26/26 [==============================] - 22s 819ms/step - loss: 1.1903 - accuracy: 0.7098 - val_loss: 1.4853 - val_accuracy: 0.7584 - lr: 8.0000e-06\n",
      "Epoch 24/80\n",
      "26/26 [==============================] - 22s 824ms/step - loss: 1.1285 - accuracy: 0.7388 - val_loss: 1.4215 - val_accuracy: 0.7472 - lr: 8.0000e-06\n",
      "Epoch 25/80\n",
      "26/26 [==============================] - 22s 827ms/step - loss: 1.1335 - accuracy: 0.7424 - val_loss: 1.3685 - val_accuracy: 0.7528 - lr: 8.0000e-06\n",
      "Epoch 26/80\n",
      "26/26 [==============================] - 22s 831ms/step - loss: 1.1373 - accuracy: 0.7352 - val_loss: 1.3231 - val_accuracy: 0.7640 - lr: 8.0000e-06\n",
      "Epoch 27/80\n",
      "26/26 [==============================] - 22s 829ms/step - loss: 1.1694 - accuracy: 0.7183 - val_loss: 1.2949 - val_accuracy: 0.7640 - lr: 8.0000e-06\n",
      "Epoch 28/80\n",
      "26/26 [==============================] - 22s 826ms/step - loss: 1.2271 - accuracy: 0.6965 - val_loss: 1.2690 - val_accuracy: 0.7528 - lr: 8.0000e-06\n",
      "Epoch 29/80\n",
      "26/26 [==============================] - 23s 839ms/step - loss: 1.1761 - accuracy: 0.7158 - val_loss: 1.2460 - val_accuracy: 0.7528 - lr: 8.0000e-06\n",
      "Epoch 30/80\n",
      "26/26 [==============================] - 22s 827ms/step - loss: 1.1988 - accuracy: 0.7098 - val_loss: 1.2276 - val_accuracy: 0.7528 - lr: 5.0000e-06\n",
      "Epoch 31/80\n",
      "26/26 [==============================] - 22s 820ms/step - loss: 1.2298 - accuracy: 0.6977 - val_loss: 1.2124 - val_accuracy: 0.7528 - lr: 5.0000e-06\n",
      "Epoch 32/80\n",
      "26/26 [==============================] - 22s 812ms/step - loss: 1.2103 - accuracy: 0.7074 - val_loss: 1.2028 - val_accuracy: 0.7528 - lr: 5.0000e-06\n",
      "Epoch 33/80\n",
      "26/26 [==============================] - 23s 850ms/step - loss: 1.1782 - accuracy: 0.7122 - val_loss: 1.1945 - val_accuracy: 0.7528 - lr: 5.0000e-06\n",
      "Epoch 34/80\n",
      "26/26 [==============================] - 22s 815ms/step - loss: 1.2200 - accuracy: 0.7074 - val_loss: 1.1898 - val_accuracy: 0.7584 - lr: 5.0000e-06\n",
      "Epoch 35/80\n",
      "26/26 [==============================] - 22s 823ms/step - loss: 1.1496 - accuracy: 0.7279 - val_loss: 1.1838 - val_accuracy: 0.7528 - lr: 5.0000e-06\n",
      "Epoch 36/80\n",
      "26/26 [==============================] - 22s 817ms/step - loss: 1.1927 - accuracy: 0.6977 - val_loss: 1.1739 - val_accuracy: 0.7528 - lr: 5.0000e-06\n",
      "Epoch 37/80\n",
      "26/26 [==============================] - 22s 826ms/step - loss: 1.1708 - accuracy: 0.7158 - val_loss: 1.1737 - val_accuracy: 0.7584 - lr: 5.0000e-06\n",
      "Epoch 38/80\n",
      "26/26 [==============================] - 22s 816ms/step - loss: 1.2181 - accuracy: 0.7025 - val_loss: 1.1697 - val_accuracy: 0.7584 - lr: 5.0000e-06\n",
      "Epoch 39/80\n",
      "26/26 [==============================] - 22s 820ms/step - loss: 1.2168 - accuracy: 0.7062 - val_loss: 1.1649 - val_accuracy: 0.7584 - lr: 5.0000e-06\n",
      "Epoch 40/80\n",
      "26/26 [==============================] - 22s 824ms/step - loss: 1.1869 - accuracy: 0.7158 - val_loss: 1.1649 - val_accuracy: 0.7584 - lr: 5.0000e-06\n",
      "Epoch 41/80\n",
      "26/26 [==============================] - 23s 870ms/step - loss: 1.2646 - accuracy: 0.6941 - val_loss: 1.1609 - val_accuracy: 0.7584 - lr: 5.0000e-06\n",
      "Epoch 42/80\n",
      "26/26 [==============================] - 23s 834ms/step - loss: 1.1924 - accuracy: 0.7122 - val_loss: 1.1622 - val_accuracy: 0.7584 - lr: 5.0000e-06\n",
      "Epoch 43/80\n",
      "26/26 [==============================] - 22s 825ms/step - loss: 1.1802 - accuracy: 0.7231 - val_loss: 1.1584 - val_accuracy: 0.7640 - lr: 5.0000e-06\n",
      "Epoch 44/80\n",
      "26/26 [==============================] - 22s 824ms/step - loss: 1.2281 - accuracy: 0.7013 - val_loss: 1.1573 - val_accuracy: 0.7640 - lr: 5.0000e-06\n",
      "Epoch 45/80\n",
      "26/26 [==============================] - 23s 846ms/step - loss: 1.2430 - accuracy: 0.6965 - val_loss: 1.1525 - val_accuracy: 0.7640 - lr: 5.0000e-06\n",
      "Epoch 46/80\n",
      "26/26 [==============================] - 22s 816ms/step - loss: 1.1920 - accuracy: 0.7086 - val_loss: 1.1566 - val_accuracy: 0.7584 - lr: 5.0000e-06\n",
      "Epoch 47/80\n",
      "26/26 [==============================] - 23s 842ms/step - loss: 1.2140 - accuracy: 0.7098 - val_loss: 1.1515 - val_accuracy: 0.7584 - lr: 5.0000e-06\n",
      "Epoch 48/80\n",
      "26/26 [==============================] - 23s 850ms/step - loss: 1.2217 - accuracy: 0.7110 - val_loss: 1.1455 - val_accuracy: 0.7697 - lr: 5.0000e-06\n",
      "Epoch 49/80\n",
      "26/26 [==============================] - 23s 839ms/step - loss: 1.1742 - accuracy: 0.7146 - val_loss: 1.1426 - val_accuracy: 0.7640 - lr: 5.0000e-06\n",
      "Epoch 50/80\n",
      "26/26 [==============================] - 23s 854ms/step - loss: 1.2051 - accuracy: 0.7146 - val_loss: 1.1387 - val_accuracy: 0.7753 - lr: 5.0000e-06\n",
      "Epoch 51/80\n",
      "26/26 [==============================] - 22s 822ms/step - loss: 1.1586 - accuracy: 0.7170 - val_loss: 1.1420 - val_accuracy: 0.7697 - lr: 5.0000e-06\n",
      "Epoch 52/80\n",
      "26/26 [==============================] - 22s 813ms/step - loss: 1.1867 - accuracy: 0.7158 - val_loss: 1.1399 - val_accuracy: 0.7753 - lr: 5.0000e-06\n",
      "Epoch 53/80\n",
      "26/26 [==============================] - 22s 809ms/step - loss: 1.1167 - accuracy: 0.7412 - val_loss: 1.1413 - val_accuracy: 0.7697 - lr: 5.0000e-06\n",
      "Epoch 54/80\n",
      "26/26 [==============================] - 22s 813ms/step - loss: 1.2300 - accuracy: 0.6904 - val_loss: 1.1463 - val_accuracy: 0.7697 - lr: 5.0000e-06\n",
      "Epoch 55/80\n",
      "26/26 [==============================] - 22s 817ms/step - loss: 1.1377 - accuracy: 0.7340 - val_loss: 1.1475 - val_accuracy: 0.7697 - lr: 5.0000e-06\n",
      "Epoch 56/80\n",
      "26/26 [==============================] - 22s 829ms/step - loss: 1.1113 - accuracy: 0.7388 - val_loss: 1.1480 - val_accuracy: 0.7640 - lr: 5.0000e-06\n",
      "Epoch 57/80\n",
      "26/26 [==============================] - 22s 817ms/step - loss: 1.1720 - accuracy: 0.7255 - val_loss: 1.1433 - val_accuracy: 0.7697 - lr: 5.0000e-06\n",
      "Epoch 58/80\n",
      "26/26 [==============================] - 22s 820ms/step - loss: 1.2047 - accuracy: 0.6977 - val_loss: 1.1394 - val_accuracy: 0.7640 - lr: 5.0000e-06\n",
      "Epoch 59/80\n",
      "26/26 [==============================] - 22s 823ms/step - loss: 1.1962 - accuracy: 0.7146 - val_loss: 1.1376 - val_accuracy: 0.7697 - lr: 5.0000e-06\n",
      "Epoch 60/80\n",
      "26/26 [==============================] - 23s 834ms/step - loss: 1.0923 - accuracy: 0.7388 - val_loss: 1.1408 - val_accuracy: 0.7640 - lr: 5.0000e-06\n",
      "Epoch 61/80\n",
      "26/26 [==============================] - 22s 814ms/step - loss: 1.0719 - accuracy: 0.7497 - val_loss: 1.1386 - val_accuracy: 0.7640 - lr: 5.0000e-06\n",
      "Epoch 62/80\n",
      "26/26 [==============================] - 22s 817ms/step - loss: 1.1359 - accuracy: 0.7231 - val_loss: 1.1370 - val_accuracy: 0.7697 - lr: 5.0000e-06\n",
      "Epoch 63/80\n",
      "26/26 [==============================] - 23s 843ms/step - loss: 1.2073 - accuracy: 0.7037 - val_loss: 1.1335 - val_accuracy: 0.7697 - lr: 5.0000e-06\n",
      "Epoch 64/80\n",
      "26/26 [==============================] - 22s 818ms/step - loss: 1.1491 - accuracy: 0.7231 - val_loss: 1.1344 - val_accuracy: 0.7697 - lr: 5.0000e-06\n",
      "Epoch 65/80\n",
      "26/26 [==============================] - 22s 822ms/step - loss: 1.2428 - accuracy: 0.6917 - val_loss: 1.1383 - val_accuracy: 0.7697 - lr: 5.0000e-06\n",
      "Epoch 66/80\n",
      "26/26 [==============================] - 22s 813ms/step - loss: 1.2165 - accuracy: 0.7013 - val_loss: 1.1382 - val_accuracy: 0.7584 - lr: 5.0000e-06\n",
      "Epoch 67/80\n",
      "26/26 [==============================] - 22s 820ms/step - loss: 1.1831 - accuracy: 0.7195 - val_loss: 1.1383 - val_accuracy: 0.7640 - lr: 5.0000e-06\n",
      "Epoch 68/80\n",
      "26/26 [==============================] - 23s 854ms/step - loss: 1.1837 - accuracy: 0.7195 - val_loss: 1.1376 - val_accuracy: 0.7697 - lr: 5.0000e-06\n",
      "Epoch 69/80\n",
      "26/26 [==============================] - 22s 819ms/step - loss: 1.1799 - accuracy: 0.7158 - val_loss: 1.1359 - val_accuracy: 0.7640 - lr: 5.0000e-06\n",
      "Epoch 70/80\n",
      "26/26 [==============================] - 22s 822ms/step - loss: 1.1650 - accuracy: 0.7158 - val_loss: 1.1394 - val_accuracy: 0.7697 - lr: 5.0000e-06\n",
      "Epoch 71/80\n",
      "26/26 [==============================] - 22s 813ms/step - loss: 1.1947 - accuracy: 0.7110 - val_loss: 1.1356 - val_accuracy: 0.7640 - lr: 5.0000e-06\n",
      "Epoch 72/80\n",
      "26/26 [==============================] - 22s 819ms/step - loss: 1.2065 - accuracy: 0.6989 - val_loss: 1.1356 - val_accuracy: 0.7697 - lr: 5.0000e-06\n",
      "Epoch 73/80\n",
      "26/26 [==============================] - 22s 828ms/step - loss: 1.2257 - accuracy: 0.7110 - val_loss: 1.1345 - val_accuracy: 0.7697 - lr: 5.0000e-06\n"
     ]
    }
   ],
   "source": [
    "h1=model1.fit(train_ds, epochs = 80, validation_data = val_ds,batch_size=5,callbacks=[lr_callback,early_stopping])"
   ]
  },
  {
   "cell_type": "code",
   "execution_count": 34,
   "id": "321befe8",
   "metadata": {
    "id": "321befe8"
   },
   "outputs": [],
   "source": [
    "a=[]\n",
    "b=[]\n",
    "for i in h1.history['accuracy']:\n",
    "    a.append(1-i)\n",
    "for i in h1.history['val_accuracy']:\n",
    "    b.append(1-i)"
   ]
  },
  {
   "cell_type": "code",
   "execution_count": 36,
   "id": "ada0f5b7",
   "metadata": {
    "colab": {
     "base_uri": "https://localhost:8080/",
     "height": 298
    },
    "id": "ada0f5b7",
    "outputId": "dcaf68ba-e3f0-43d7-cb25-01698147d4c2"
   },
   "outputs": [
    {
     "data": {
      "text/plain": [
       "Text(0.5, 1.0, 'Train and Validation Error')"
      ]
     },
     "execution_count": 36,
     "metadata": {},
     "output_type": "execute_result"
    },
    {
     "data": {
      "image/png": "[encoded data removed]",
      "text/plain": [
       "<Figure size 432x288 with 1 Axes>"
      ]
     },
     "metadata": {
      "needs_background": "light"
     },
     "output_type": "display_data"
    }
   ],
   "source": [
    "plt.figure()\n",
    "plt.plot(a, label='Train')\n",
    "plt.plot(b, label='Validation')\n",
    "plt.legend(loc='best')\n",
    "plt.title(label=\"Train and Validation Error\")\n",
    "# I couldn't find the reason why my train error is higher than val error for EfficientNetB0, I've tried refit it a bunch of times.     "
   ]
  },
  {
   "cell_type": "code",
   "execution_count": 38,
   "id": "G7AUZmKg57LP",
   "metadata": {
    "colab": {
     "base_uri": "https://localhost:8080/"
    },
    "id": "G7AUZmKg57LP",
    "outputId": "4c5ddff0-1ca5-4eaf-818f-a715b86ba2b8"
   },
   "outputs": [
    {
     "name": "stdout",
     "output_type": "stream",
     "text": [
      "6/6 [==============================] - 1s 69ms/step - loss: 1.0448 - accuracy: 0.7953\n",
      "Test loss is 1.044838309288025\n",
      "Test accuracy is 0.7953216433525085\n"
     ]
    }
   ],
   "source": [
    "results1 = model1.evaluate(test_ds)\n",
    "print('Test loss is',results1[0])\n",
    "print('Test accuracy is',results1[1])"
   ]
  },
  {
   "cell_type": "code",
   "execution_count": 105,
   "id": "Sj1JasXh5w4b",
   "metadata": {
    "id": "Sj1JasXh5w4b"
   },
   "outputs": [],
   "source": [
    "label_=[]\n",
    "for image, label in test_ds.take(20): # get the classes of test dataset\n",
    "    for i in np.argmax(label,axis=1):\n",
    "        label_.append(i)"
   ]
  },
  {
   "cell_type": "code",
   "execution_count": 107,
   "id": "MAUzNoOa62NQ",
   "metadata": {
    "colab": {
     "base_uri": "https://localhost:8080/"
    },
    "id": "MAUzNoOa62NQ",
    "outputId": "aaa63f98-e409-4cbc-de6c-a7c850df021f"
   },
   "outputs": [
    {
     "name": "stdout",
     "output_type": "stream",
     "text": [
      "6/6 [==============================] - 1s 66ms/step\n",
      "The precision, recall, and f1 score are in the report below:\n",
      "              precision    recall  f1-score   support\n",
      "\n",
      "           0       0.20      0.17      0.18         6\n",
      "           1       0.00      0.00      0.00         9\n",
      "           2       0.00      0.00      0.00         8\n",
      "           3       0.00      0.00      0.00         8\n",
      "           4       0.00      0.00      0.00         9\n",
      "           5       0.00      0.00      0.00         9\n",
      "           6       0.00      0.00      0.00         9\n",
      "           7       0.00      0.00      0.00         9\n",
      "           8       0.00      0.00      0.00         9\n",
      "           9       0.00      0.00      0.00         9\n",
      "          10       0.00      0.00      0.00         9\n",
      "          11       0.00      0.00      0.00         9\n",
      "          12       0.00      0.00      0.00         9\n",
      "          13       0.00      0.00      0.00         9\n",
      "          14       0.15      0.22      0.18         9\n",
      "          15       0.00      0.00      0.00         8\n",
      "          16       0.00      0.00      0.00         8\n",
      "          17       0.25      0.25      0.25         8\n",
      "          18       0.00      0.00      0.00         9\n",
      "          19       0.00      0.00      0.00         8\n",
      "\n",
      "    accuracy                           0.03       171\n",
      "   macro avg       0.03      0.03      0.03       171\n",
      "weighted avg       0.03      0.03      0.03       171\n",
      "\n"
     ]
    }
   ],
   "source": [
    "pred=model1.predict(test_ds)\n",
    "prediction = np.argmax(pred, axis=1)\n",
    "print('The precision, recall, and f1 score are in the report below:')\n",
    "print(classification_report(label_, prediction))"
   ]
  },
  {
   "cell_type": "code",
   "execution_count": 27,
   "id": "49aecb4a",
   "metadata": {
    "id": "49aecb4a"
   },
   "outputs": [],
   "source": [
    "# VGG16\n",
    "VGG_model=VGG16(weights='imagenet', classes=1000)\n",
    "for layer in VGG_model.layers:\n",
    "    layer.trainable = False\n",
    "out=VGG_model.get_layer('fc2').output\n",
    "out=Flatten()(out)\n",
    "out=Dense(20)(out)\n",
    "out=BatchNormalization()(out)\n",
    "out=Activation('relu')(out)\n",
    "out=Dropout(0.2)(out)\n",
    "out=Activation('softmax')(out)\n",
    "\n",
    "model2=Model(inputs=VGG_model.input,outputs=out)\n",
    "model2.compile(optimizer='adam', loss='categorical_crossentropy', metrics=['accuracy'])"
   ]
  },
  {
   "cell_type": "code",
   "execution_count": 85,
   "id": "t8sqcwBfBVub",
   "metadata": {
    "colab": {
     "base_uri": "https://localhost:8080/"
    },
    "id": "t8sqcwBfBVub",
    "outputId": "29c6cac8-e4fe-4ffa-e9a9-8b791c9741b2"
   },
   "outputs": [
    {
     "name": "stdout",
     "output_type": "stream",
     "text": [
      "Model: \"model_5\"\n",
      "_________________________________________________________________\n",
      " Layer (type)                Output Shape              Param #   \n",
      "=================================================================\n",
      " input_8 (InputLayer)        [(None, 224, 224, 3)]     0         \n",
      "                                                                 \n",
      " block1_conv1 (Conv2D)       (None, 224, 224, 64)      1792      \n",
      "                                                                 \n",
      " block1_conv2 (Conv2D)       (None, 224, 224, 64)      36928     \n",
      "                                                                 \n",
      " block1_pool (MaxPooling2D)  (None, 112, 112, 64)      0         \n",
      "                                                                 \n",
      " block2_conv1 (Conv2D)       (None, 112, 112, 128)     73856     \n",
      "                                                                 \n",
      " block2_conv2 (Conv2D)       (None, 112, 112, 128)     147584    \n",
      "                                                                 \n",
      " block2_pool (MaxPooling2D)  (None, 56, 56, 128)       0         \n",
      "                                                                 \n",
      " block3_conv1 (Conv2D)       (None, 56, 56, 256)       295168    \n",
      "                                                                 \n",
      " block3_conv2 (Conv2D)       (None, 56, 56, 256)       590080    \n",
      "                                                                 \n",
      " block3_conv3 (Conv2D)       (None, 56, 56, 256)       590080    \n",
      "                                                                 \n",
      " block3_pool (MaxPooling2D)  (None, 28, 28, 256)       0         \n",
      "                                                                 \n",
      " block4_conv1 (Conv2D)       (None, 28, 28, 512)       1180160   \n",
      "                                                                 \n",
      " block4_conv2 (Conv2D)       (None, 28, 28, 512)       2359808   \n",
      "                                                                 \n",
      " block4_conv3 (Conv2D)       (None, 28, 28, 512)       2359808   \n",
      "                                                                 \n",
      " block4_pool (MaxPooling2D)  (None, 14, 14, 512)       0         \n",
      "                                                                 \n",
      " block5_conv1 (Conv2D)       (None, 14, 14, 512)       2359808   \n",
      "                                                                 \n",
      " block5_conv2 (Conv2D)       (None, 14, 14, 512)       2359808   \n",
      "                                                                 \n",
      " block5_conv3 (Conv2D)       (None, 14, 14, 512)       2359808   \n",
      "                                                                 \n",
      " block5_pool (MaxPooling2D)  (None, 7, 7, 512)         0         \n",
      "                                                                 \n",
      " flatten (Flatten)           (None, 25088)             0         \n",
      "                                                                 \n",
      " fc1 (Dense)                 (None, 4096)              102764544 \n",
      "                                                                 \n",
      " fc2 (Dense)                 (None, 4096)              16781312  \n",
      "                                                                 \n",
      " flatten_5 (Flatten)         (None, 4096)              0         \n",
      "                                                                 \n",
      " dense_5 (Dense)             (None, 20)                81940     \n",
      "                                                                 \n",
      " batch_normalization_5 (Batc  (None, 20)               80        \n",
      " hNormalization)                                                 \n",
      "                                                                 \n",
      " activation_10 (Activation)  (None, 20)                0         \n",
      "                                                                 \n",
      " dropout_5 (Dropout)         (None, 20)                0         \n",
      "                                                                 \n",
      " activation_11 (Activation)  (None, 20)                0         \n",
      "                                                                 \n",
      "=================================================================\n",
      "Total params: 134,342,564\n",
      "Trainable params: 81,980\n",
      "Non-trainable params: 134,260,584\n",
      "_________________________________________________________________\n"
     ]
    }
   ],
   "source": [
    "model2.summary()"
   ]
  },
  {
   "cell_type": "code",
   "execution_count": 29,
   "id": "a622fc0d",
   "metadata": {
    "colab": {
     "base_uri": "https://localhost:8080/"
    },
    "id": "a622fc0d",
    "outputId": "d32778af-c33a-49e7-86ce-ec7b258d90a3"
   },
   "outputs": [
    {
     "name": "stdout",
     "output_type": "stream",
     "text": [
      "Epoch 1/80\n",
      "26/26 [==============================] - 27s 888ms/step - loss: 2.8415 - accuracy: 0.1850 - val_loss: 2.4215 - val_accuracy: 0.3034 - lr: 0.0010\n",
      "Epoch 2/80\n",
      "26/26 [==============================] - 21s 776ms/step - loss: 2.3307 - accuracy: 0.3555 - val_loss: 2.1028 - val_accuracy: 0.4382 - lr: 0.0010\n",
      "Epoch 3/80\n",
      "26/26 [==============================] - 21s 783ms/step - loss: 2.1473 - accuracy: 0.4256 - val_loss: 1.8157 - val_accuracy: 0.5112 - lr: 0.0010\n",
      "Epoch 4/80\n",
      "26/26 [==============================] - 21s 761ms/step - loss: 2.0379 - accuracy: 0.4728 - val_loss: 1.7362 - val_accuracy: 0.5337 - lr: 0.0010\n",
      "Epoch 5/80\n",
      "26/26 [==============================] - 19s 693ms/step - loss: 2.0263 - accuracy: 0.4740 - val_loss: 1.6578 - val_accuracy: 0.5393 - lr: 0.0010\n",
      "Epoch 6/80\n",
      "26/26 [==============================] - 19s 706ms/step - loss: 1.9417 - accuracy: 0.4933 - val_loss: 1.5886 - val_accuracy: 0.5562 - lr: 0.0010\n",
      "Epoch 7/80\n",
      "26/26 [==============================] - 19s 686ms/step - loss: 1.8739 - accuracy: 0.5308 - val_loss: 1.5912 - val_accuracy: 0.5449 - lr: 0.0010\n",
      "Epoch 8/80\n",
      "26/26 [==============================] - 19s 701ms/step - loss: 1.8550 - accuracy: 0.5236 - val_loss: 1.5601 - val_accuracy: 0.5618 - lr: 0.0010\n",
      "Epoch 9/80\n",
      "26/26 [==============================] - 19s 697ms/step - loss: 1.8058 - accuracy: 0.5429 - val_loss: 1.5274 - val_accuracy: 0.5618 - lr: 0.0010\n",
      "Epoch 10/80\n",
      "26/26 [==============================] - 20s 729ms/step - loss: 1.7407 - accuracy: 0.5647 - val_loss: 1.5654 - val_accuracy: 0.5562 - lr: 0.0010\n",
      "Epoch 11/80\n",
      "26/26 [==============================] - 19s 687ms/step - loss: 1.7067 - accuracy: 0.5635 - val_loss: 1.5701 - val_accuracy: 0.5562 - lr: 0.0010\n",
      "Epoch 12/80\n",
      "26/26 [==============================] - 19s 695ms/step - loss: 1.6045 - accuracy: 0.6034 - val_loss: 1.5561 - val_accuracy: 0.5618 - lr: 2.0000e-04\n",
      "Epoch 13/80\n",
      "26/26 [==============================] - 19s 688ms/step - loss: 1.6812 - accuracy: 0.5889 - val_loss: 1.5309 - val_accuracy: 0.5618 - lr: 2.0000e-04\n",
      "Epoch 14/80\n",
      "26/26 [==============================] - 19s 700ms/step - loss: 1.5906 - accuracy: 0.6070 - val_loss: 1.5225 - val_accuracy: 0.5674 - lr: 2.0000e-04\n",
      "Epoch 15/80\n",
      "26/26 [==============================] - 19s 697ms/step - loss: 1.6182 - accuracy: 0.5949 - val_loss: 1.5184 - val_accuracy: 0.5730 - lr: 2.0000e-04\n",
      "Epoch 16/80\n",
      "26/26 [==============================] - 19s 702ms/step - loss: 1.7200 - accuracy: 0.5719 - val_loss: 1.5031 - val_accuracy: 0.5843 - lr: 2.0000e-04\n",
      "Epoch 17/80\n",
      "26/26 [==============================] - 20s 697ms/step - loss: 1.5967 - accuracy: 0.6058 - val_loss: 1.4958 - val_accuracy: 0.5674 - lr: 2.0000e-04\n",
      "Epoch 18/80\n",
      "26/26 [==============================] - 19s 689ms/step - loss: 1.6629 - accuracy: 0.5804 - val_loss: 1.5016 - val_accuracy: 0.5787 - lr: 2.0000e-04\n",
      "Epoch 19/80\n",
      "26/26 [==============================] - 19s 698ms/step - loss: 1.6368 - accuracy: 0.6082 - val_loss: 1.4947 - val_accuracy: 0.5730 - lr: 2.0000e-04\n",
      "Epoch 20/80\n",
      "26/26 [==============================] - 19s 706ms/step - loss: 1.6404 - accuracy: 0.5792 - val_loss: 1.4924 - val_accuracy: 0.5674 - lr: 4.0000e-05\n",
      "Epoch 21/80\n",
      "26/26 [==============================] - 19s 697ms/step - loss: 1.5751 - accuracy: 0.6203 - val_loss: 1.4889 - val_accuracy: 0.5730 - lr: 4.0000e-05\n",
      "Epoch 22/80\n",
      "26/26 [==============================] - 19s 711ms/step - loss: 1.5632 - accuracy: 0.6106 - val_loss: 1.4895 - val_accuracy: 0.5730 - lr: 4.0000e-05\n",
      "Epoch 23/80\n",
      "26/26 [==============================] - 19s 702ms/step - loss: 1.6106 - accuracy: 0.6155 - val_loss: 1.4861 - val_accuracy: 0.5730 - lr: 8.0000e-06\n",
      "Epoch 24/80\n",
      "26/26 [==============================] - 19s 698ms/step - loss: 1.6200 - accuracy: 0.5937 - val_loss: 1.4835 - val_accuracy: 0.5730 - lr: 8.0000e-06\n",
      "Epoch 25/80\n",
      "26/26 [==============================] - 19s 699ms/step - loss: 1.5739 - accuracy: 0.6070 - val_loss: 1.4817 - val_accuracy: 0.5730 - lr: 8.0000e-06\n",
      "Epoch 26/80\n",
      "26/26 [==============================] - 19s 699ms/step - loss: 1.5745 - accuracy: 0.6191 - val_loss: 1.4816 - val_accuracy: 0.5730 - lr: 5.0000e-06\n",
      "Epoch 27/80\n",
      "26/26 [==============================] - 19s 703ms/step - loss: 1.5739 - accuracy: 0.6034 - val_loss: 1.4803 - val_accuracy: 0.5730 - lr: 5.0000e-06\n",
      "Epoch 28/80\n",
      "26/26 [==============================] - 19s 702ms/step - loss: 1.5704 - accuracy: 0.6215 - val_loss: 1.4801 - val_accuracy: 0.5730 - lr: 5.0000e-06\n",
      "Epoch 29/80\n",
      "26/26 [==============================] - 20s 724ms/step - loss: 1.5675 - accuracy: 0.6191 - val_loss: 1.4802 - val_accuracy: 0.5730 - lr: 5.0000e-06\n",
      "Epoch 30/80\n",
      "26/26 [==============================] - 19s 699ms/step - loss: 1.5625 - accuracy: 0.6203 - val_loss: 1.4792 - val_accuracy: 0.5730 - lr: 5.0000e-06\n",
      "Epoch 31/80\n",
      "26/26 [==============================] - 19s 691ms/step - loss: 1.5558 - accuracy: 0.6481 - val_loss: 1.4803 - val_accuracy: 0.5730 - lr: 5.0000e-06\n",
      "Epoch 32/80\n",
      "26/26 [==============================] - 20s 728ms/step - loss: 1.5748 - accuracy: 0.6239 - val_loss: 1.4781 - val_accuracy: 0.5730 - lr: 5.0000e-06\n",
      "Epoch 33/80\n",
      "26/26 [==============================] - 19s 689ms/step - loss: 1.6082 - accuracy: 0.6143 - val_loss: 1.4786 - val_accuracy: 0.5730 - lr: 5.0000e-06\n",
      "Epoch 34/80\n",
      "26/26 [==============================] - 19s 700ms/step - loss: 1.5492 - accuracy: 0.6324 - val_loss: 1.4781 - val_accuracy: 0.5730 - lr: 5.0000e-06\n",
      "Epoch 35/80\n",
      "26/26 [==============================] - 19s 689ms/step - loss: 1.4410 - accuracy: 0.6626 - val_loss: 1.4783 - val_accuracy: 0.5730 - lr: 5.0000e-06\n",
      "Epoch 36/80\n",
      "26/26 [==============================] - 20s 735ms/step - loss: 1.5698 - accuracy: 0.6252 - val_loss: 1.4772 - val_accuracy: 0.5730 - lr: 5.0000e-06\n",
      "Epoch 37/80\n",
      "26/26 [==============================] - 19s 695ms/step - loss: 1.5542 - accuracy: 0.6276 - val_loss: 1.4781 - val_accuracy: 0.5730 - lr: 5.0000e-06\n",
      "Epoch 38/80\n",
      "26/26 [==============================] - 19s 700ms/step - loss: 1.6266 - accuracy: 0.6010 - val_loss: 1.4765 - val_accuracy: 0.5787 - lr: 5.0000e-06\n",
      "Epoch 39/80\n",
      "26/26 [==============================] - 19s 693ms/step - loss: 1.5409 - accuracy: 0.6276 - val_loss: 1.4774 - val_accuracy: 0.5787 - lr: 5.0000e-06\n",
      "Epoch 40/80\n",
      "26/26 [==============================] - 19s 691ms/step - loss: 1.5214 - accuracy: 0.6421 - val_loss: 1.4766 - val_accuracy: 0.5730 - lr: 5.0000e-06\n",
      "Epoch 41/80\n",
      "26/26 [==============================] - 19s 690ms/step - loss: 1.5673 - accuracy: 0.6119 - val_loss: 1.4770 - val_accuracy: 0.5787 - lr: 5.0000e-06\n",
      "Epoch 42/80\n",
      "26/26 [==============================] - 20s 724ms/step - loss: 1.5815 - accuracy: 0.6046 - val_loss: 1.4767 - val_accuracy: 0.5787 - lr: 5.0000e-06\n",
      "Epoch 43/80\n",
      "26/26 [==============================] - 19s 695ms/step - loss: 1.5555 - accuracy: 0.6372 - val_loss: 1.4771 - val_accuracy: 0.5787 - lr: 5.0000e-06\n",
      "Epoch 44/80\n",
      "26/26 [==============================] - 19s 703ms/step - loss: 1.6055 - accuracy: 0.6106 - val_loss: 1.4764 - val_accuracy: 0.5787 - lr: 5.0000e-06\n",
      "Epoch 45/80\n",
      "26/26 [==============================] - 19s 689ms/step - loss: 1.5888 - accuracy: 0.6276 - val_loss: 1.4777 - val_accuracy: 0.5787 - lr: 5.0000e-06\n",
      "Epoch 46/80\n",
      "26/26 [==============================] - 19s 693ms/step - loss: 1.6019 - accuracy: 0.6058 - val_loss: 1.4775 - val_accuracy: 0.5787 - lr: 5.0000e-06\n",
      "Epoch 47/80\n",
      "26/26 [==============================] - 19s 690ms/step - loss: 1.5590 - accuracy: 0.6143 - val_loss: 1.4779 - val_accuracy: 0.5730 - lr: 5.0000e-06\n",
      "Epoch 48/80\n",
      "26/26 [==============================] - 19s 683ms/step - loss: 1.5828 - accuracy: 0.6034 - val_loss: 1.4771 - val_accuracy: 0.5787 - lr: 5.0000e-06\n",
      "Epoch 49/80\n",
      "26/26 [==============================] - 19s 684ms/step - loss: 1.5452 - accuracy: 0.6131 - val_loss: 1.4774 - val_accuracy: 0.5843 - lr: 5.0000e-06\n",
      "Epoch 50/80\n",
      "26/26 [==============================] - 19s 687ms/step - loss: 1.6339 - accuracy: 0.5949 - val_loss: 1.4769 - val_accuracy: 0.5787 - lr: 5.0000e-06\n",
      "Epoch 51/80\n",
      "26/26 [==============================] - 20s 693ms/step - loss: 1.5704 - accuracy: 0.6300 - val_loss: 1.4772 - val_accuracy: 0.5787 - lr: 5.0000e-06\n",
      "Epoch 52/80\n",
      "26/26 [==============================] - 19s 689ms/step - loss: 1.5816 - accuracy: 0.6252 - val_loss: 1.4766 - val_accuracy: 0.5787 - lr: 5.0000e-06\n",
      "Epoch 53/80\n",
      "26/26 [==============================] - 19s 694ms/step - loss: 1.6279 - accuracy: 0.6058 - val_loss: 1.4746 - val_accuracy: 0.5843 - lr: 5.0000e-06\n",
      "Epoch 54/80\n",
      "26/26 [==============================] - 19s 697ms/step - loss: 1.6113 - accuracy: 0.6227 - val_loss: 1.4742 - val_accuracy: 0.5843 - lr: 5.0000e-06\n",
      "Epoch 55/80\n",
      "26/26 [==============================] - 19s 697ms/step - loss: 1.6888 - accuracy: 0.5719 - val_loss: 1.4728 - val_accuracy: 0.5843 - lr: 5.0000e-06\n",
      "Epoch 56/80\n",
      "26/26 [==============================] - 19s 686ms/step - loss: 1.4994 - accuracy: 0.6397 - val_loss: 1.4756 - val_accuracy: 0.5843 - lr: 5.0000e-06\n",
      "Epoch 57/80\n",
      "26/26 [==============================] - 19s 686ms/step - loss: 1.5555 - accuracy: 0.6288 - val_loss: 1.4744 - val_accuracy: 0.5787 - lr: 5.0000e-06\n",
      "Epoch 58/80\n",
      "26/26 [==============================] - 20s 728ms/step - loss: 1.5473 - accuracy: 0.6034 - val_loss: 1.4753 - val_accuracy: 0.5787 - lr: 5.0000e-06\n",
      "Epoch 59/80\n",
      "26/26 [==============================] - 19s 687ms/step - loss: 1.6162 - accuracy: 0.5998 - val_loss: 1.4746 - val_accuracy: 0.5787 - lr: 5.0000e-06\n",
      "Epoch 60/80\n",
      "26/26 [==============================] - 19s 683ms/step - loss: 1.5934 - accuracy: 0.6082 - val_loss: 1.4742 - val_accuracy: 0.5843 - lr: 5.0000e-06\n",
      "Epoch 61/80\n",
      "26/26 [==============================] - 19s 684ms/step - loss: 1.6055 - accuracy: 0.6131 - val_loss: 1.4752 - val_accuracy: 0.5787 - lr: 5.0000e-06\n",
      "Epoch 62/80\n",
      "26/26 [==============================] - 19s 688ms/step - loss: 1.5681 - accuracy: 0.6227 - val_loss: 1.4750 - val_accuracy: 0.5787 - lr: 5.0000e-06\n",
      "Epoch 63/80\n",
      "26/26 [==============================] - 19s 688ms/step - loss: 1.5135 - accuracy: 0.6626 - val_loss: 1.4746 - val_accuracy: 0.5787 - lr: 5.0000e-06\n",
      "Epoch 64/80\n",
      "26/26 [==============================] - 19s 688ms/step - loss: 1.5724 - accuracy: 0.6227 - val_loss: 1.4749 - val_accuracy: 0.5843 - lr: 5.0000e-06\n",
      "Epoch 65/80\n",
      "26/26 [==============================] - 20s 734ms/step - loss: 1.6241 - accuracy: 0.6070 - val_loss: 1.4760 - val_accuracy: 0.5843 - lr: 5.0000e-06\n"
     ]
    }
   ],
   "source": [
    "h2=model2.fit(train_ds, epochs = 80, validation_data = val_ds,batch_size=5,callbacks=[lr_callback,early_stopping])"
   ]
  },
  {
   "cell_type": "code",
   "execution_count": 30,
   "id": "3c89459a",
   "metadata": {
    "id": "3c89459a"
   },
   "outputs": [],
   "source": [
    "a=[]\n",
    "b=[]\n",
    "for i in h2.history['accuracy']:\n",
    "    a.append(1-i)\n",
    "for i in h2.history['val_accuracy']:\n",
    "    b.append(1-i)"
   ]
  },
  {
   "cell_type": "code",
   "execution_count": 31,
   "id": "706e7eef",
   "metadata": {
    "colab": {
     "base_uri": "https://localhost:8080/",
     "height": 298
    },
    "id": "706e7eef",
    "outputId": "b9e2bd7f-9ae2-4ca5-b4a9-3679d7e4e0bd"
   },
   "outputs": [
    {
     "data": {
      "text/plain": [
       "Text(0.5, 1.0, 'Train and Validation Error')"
      ]
     },
     "execution_count": 31,
     "metadata": {},
     "output_type": "execute_result"
    },
    {
     "data": {
      "image/png": "[encoded data removed]",
      "text/plain": [
       "<Figure size 432x288 with 1 Axes>"
      ]
     },
     "metadata": {
      "needs_background": "light"
     },
     "output_type": "display_data"
    }
   ],
   "source": [
    "plt.figure()\n",
    "plt.plot(a, label='Train')\n",
    "plt.plot(b, label='Validation')\n",
    "plt.legend(loc='best')\n",
    "plt.title(label=\"Train and Validation Error\")\n",
    "     "
   ]
  },
  {
   "cell_type": "code",
   "execution_count": 88,
   "id": "2Z0lRMTQBeJi",
   "metadata": {
    "colab": {
     "base_uri": "https://localhost:8080/"
    },
    "id": "2Z0lRMTQBeJi",
    "outputId": "fe28074a-0b32-4efd-8907-743b7a793938"
   },
   "outputs": [
    {
     "name": "stdout",
     "output_type": "stream",
     "text": [
      "6/6 [==============================] - 1s 133ms/step - loss: 1.3076 - accuracy: 0.7018\n",
      "Test loss is 1.3076156377792358\n",
      "Test accuracy is 0.7017543911933899\n"
     ]
    }
   ],
   "source": [
    "results2 = model2.evaluate(test_ds)\n",
    "print('Test loss is',results2[0])\n",
    "print('Test accuracy is',results2[1])"
   ]
  },
  {
   "cell_type": "code",
   "execution_count": 103,
   "id": "ooA0HHqQCCAh",
   "metadata": {
    "id": "ooA0HHqQCCAh"
   },
   "outputs": [],
   "source": [
    "label_=[]\n",
    "for image, label in test_ds.take(20):\n",
    "    for i in np.argmax(label,axis=1):\n",
    "        label_.append(i)"
   ]
  },
  {
   "cell_type": "code",
   "execution_count": 109,
   "id": "bcd57a25",
   "metadata": {
    "colab": {
     "base_uri": "https://localhost:8080/"
    },
    "id": "bcd57a25",
    "outputId": "eb7ab7c2-d0de-44d6-8e4b-cb989e17217c"
   },
   "outputs": [
    {
     "name": "stdout",
     "output_type": "stream",
     "text": [
      "6/6 [==============================] - 1s 159ms/step\n",
      "The precision, recall, and f1 score are in the report below:\n",
      "              precision    recall  f1-score   support\n",
      "\n",
      "           0       0.00      0.00      0.00         6\n",
      "           1       0.14      0.11      0.12         9\n",
      "           2       0.00      0.00      0.00         8\n",
      "           3       0.00      0.00      0.00         8\n",
      "           4       0.00      0.00      0.00         9\n",
      "           5       0.00      0.00      0.00         9\n",
      "           6       0.00      0.00      0.00         9\n",
      "           7       0.18      0.22      0.20         9\n",
      "           8       0.00      0.00      0.00         9\n",
      "           9       0.11      0.11      0.11         9\n",
      "          10       0.00      0.00      0.00         9\n",
      "          11       0.25      0.22      0.24         9\n",
      "          12       0.00      0.00      0.00         9\n",
      "          13       0.00      0.00      0.00         9\n",
      "          14       0.00      0.00      0.00         9\n",
      "          15       0.40      0.25      0.31         8\n",
      "          16       0.00      0.00      0.00         8\n",
      "          17       0.00      0.00      0.00         8\n",
      "          18       0.10      0.11      0.11         9\n",
      "          19       0.00      0.00      0.00         8\n",
      "\n",
      "    accuracy                           0.05       171\n",
      "   macro avg       0.06      0.05      0.05       171\n",
      "weighted avg       0.06      0.05      0.06       171\n",
      "\n"
     ]
    }
   ],
   "source": [
    "pred=model2.predict(test_ds)\n",
    "prediction = np.argmax(pred, axis=1)\n",
    "print('The precision, recall, and f1 score are in the report below:')\n",
    "print(classification_report(label_,prediction))"
   ]
  },
  {
   "cell_type": "markdown",
   "id": "5a4106cd",
   "metadata": {
    "id": "5a4106cd"
   },
   "source": [
    "## Reference"
   ]
  },
  {
   "cell_type": "markdown",
   "id": "ff0a06a3",
   "metadata": {
    "id": "ff0a06a3"
   },
   "source": [
    "1. https://www.educative.io/blog/one-hot-encoding"
   ]
  },
  {
   "cell_type": "markdown",
   "id": "10f27890",
   "metadata": {
    "id": "10f27890"
   },
   "source": [
    "2. https://keras.io/api/data_loading/"
   ]
  },
  {
   "cell_type": "markdown",
   "id": "0c8b2ed7",
   "metadata": {
    "id": "0c8b2ed7"
   },
   "source": [
    "3. https://keras.io/api/layers/preprocessing_layers/image_augmentation/"
   ]
  },
  {
   "cell_type": "markdown",
   "id": "43816886",
   "metadata": {
    "id": "43816886"
   },
   "source": [
    "4. https://www.tensorflow.org/tutorials/images/data_augmentation"
   ]
  },
  {
   "cell_type": "markdown",
   "id": "cee58b73",
   "metadata": {
    "id": "cee58b73"
   },
   "source": [
    "5. https://keras.io/examples/vision/consistency_training/"
   ]
  },
  {
   "cell_type": "code",
   "execution_count": null,
   "id": "991f0374",
   "metadata": {
    "id": "991f0374"
   },
   "outputs": [],
   "source": []
  }
 ],
 "metadata": {
  "accelerator": "GPU",
  "colab": {
   "provenance": []
  },
  "gpuClass": "standard",
  "kernelspec": {
   "display_name": "Python 3 (ipykernel)",
   "language": "python",
   "name": "python3"
  },
  "language_info": {
   "codemirror_mode": {
    "name": "ipython",
    "version": 3
   },
   "file_extension": ".py",
   "mimetype": "text/x-python",
   "name": "python",
   "nbconvert_exporter": "python",
   "pygments_lexer": "ipython3",
   "version": "3.9.7"
  }
 },
 "nbformat": 4,
 "nbformat_minor": 5
}
